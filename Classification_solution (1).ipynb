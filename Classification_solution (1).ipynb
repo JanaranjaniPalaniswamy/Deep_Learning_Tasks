{
  "nbformat": 4,
  "nbformat_minor": 0,
  "metadata": {
    "colab": {
      "name": "Classification_solution.ipynb",
      "provenance": [],
      "collapsed_sections": []
    },
    "kernelspec": {
      "name": "python3",
      "display_name": "Python 3"
    },
    "accelerator": "GPU"
  },
  "cells": [
    {
      "cell_type": "markdown",
      "metadata": {
        "id": "Zafx6Y6AflAu"
      },
      "source": [
        "# Deep learning programming II: Classification\n",
        "Felix Wiewel, Institute of Signal Processing and System Theory, University of Stuttgart, 11.06.2019\n",
        "\n",
        "## Introduction\n",
        "A common problem that arises in machine learning is the classifiaction of images. The goal of this exercise is to introduce you to the practical implementation of a complete pipeline for solving a classification task with neural networks in tensorflow. For this we will make extended use of Keras, a specification of a high-level API for implementing powerful classes and functions to create and train neural networks. Tensorflow already comes with an implementation of the Keras specification so there is no need to install Keras if you have already installed Tensorflow. Usign Keras instead of low level tensorflow code to implement your neural networks and their training algorithms comes with some advantages but also some disadvantages. Since Keras makes it very easy to build and train neural networks, even people without strong programming skills can quickly develop solutions for given problems using neural networks. Keras essantially provides an abstract interface to the user and takes care of the low-level implementation details. This, however, comes with a cost. Since many technical details are hidden from the user, it is sometimes quite difficult to modify and change certain parts of your model/training algorithm. To a certain extend Keras provides you with ways to implement custom network architectures, custom layers and custom training algorithms but sometimes having to write code that is compliant with the Keras specification is more difficult than implementing it in low-level Tensorflow code. But for most standard applications, e.g. simple image classification like in this exercise, Keras is flexible enough and can save you a lot of time and frustation.\n",
        "\n",
        "## GPU support\n",
        "In order to speed up calculations with tensorflow, we need to change the runtime type of this notebook to GPU. For this click on \"Runtime\" in the top left menu and select \"Change runtime type\". Then choose \"GPU\" in the drop down list under \"Hardware accelerator\". This will enable tensorflow to execute calculations on a GPU provided by Google Colab.\n",
        "\n",
        "## Mathematical Background\n",
        "In classification we are interested in learning a function that maps an input $\\mathbf{x}\\in\\mathbb{R}^{M}$ to one out of possibly many classes. In order to characterize such a mapping, we need a mathematical expression to uniquely identify different classes. This is typically done by assigning each class an integer value. So in the case of classifying images in the three classes Dog, Cat, Bird one could assign these classes with the one-hot vectors $\\left[1,0,0\\right]^{T},\\left[0,1,0\\right]^{T},\\left[0,0,1\\right]^{T}$. In classification using neural networks we are then interested in learning the function\n",
        "\n",
        "$\\mathbf{y}=f_{\\boldsymbol{\\theta}}(\\mathbf{x})$,\n",
        "\n",
        "where $f$ is a neural network with parameters $\\boldsymbol{\\theta}$ that maps our possibly high-dimensional input $\\mathbf{x}\\in\\mathbb{R}^{M}$ to an output $\\mathbf{y}\\in\\lbrace0,1\\rbrace^{k}$ that represents one out of $k$ possible classes. Similar to the regression exercise, we will use a probabilistic view on this problem in order to derive a suitable cost function we can use to train our model. This time however we will not introduce uncertainty through assuming some sort of noise acting on the prediction of the model as we did in the previous exercise. Instead we will treat both $\\mathbf{x}$ and $\\mathbf{y}$ as random variables with probability distribution functions (pdfs) $p(\\mathbf{x})$ and $p(\\mathbf{y})$. We already know that $\\mathbf{y}$ can be one  out of $k$ classes, i.e. $p(\\mathbf{y})$ is a cateorical distribution. Instead of trying to learn a deterministic function that maps an input $\\mathbf{x}$ to an output $\\mathbf{y}$ we can instead learn a function that takes $\\mathbf{x}$ as an input and outputs a pdf over our $k$ different classes, i.e. $p(\\mathbf{y}\\vert\\mathbf{x})$. In order to then classify an input we typically assign it with the class label that is most likely. In this way we can easily interprete the output of the model and also incorporate prior information into our decision. Using this probabilistic perspective on the classification problem we are interested in learning the conditional distribution\n",
        "\n",
        "$p(\\mathbf{y}\\vert\\mathbf{x})=\\prod_{n=1}^{k}\\mu_{n}(\\mathbf{x})^{y_{n}}$,\n",
        "\n",
        "where $y_{n}\\in\\lbrace0,1\\rbrace$,  $\\sum_{n=1}^{k}y_{n}=1$, $0\\leq\\mu_{n}(\\mathbf{x})\\leq1$ and $\\sum_{n=1}^{k}\\mu_{n}(\\mathbf{x})=1$. In other words, we want to learn the parameters of a neural network $\\boldsymbol{\\theta}$ that, given an input $\\mathbf{x}$, outputs $\\mu_{n}(\\mathbf{x})$ for $1\\leq n\\leq k$ satisfying the constraints $0\\leq\\mu_{n}(\\mathbf{x})\\leq1$ and $\\sum_{n=1}^{k}\\mu_{n}(\\mathbf{x})=1$. Practically, we can realize this by designing a neural network that accepts $\\mathbf{x}$ as an input and has an output layer with $k$ neurons and a softmax activation function. In order to derive a cost function for learning the parameters $\\boldsymbol{\\theta}$ of the neural network, we will again use the log likelihood\n",
        "\n",
        "$\\mathcal{L}(\\mathbf{x},\\mathbf{y},\\boldsymbol{\\theta})=\\ln{p(\\mathbf{y}\\vert\\mathbf{x},\\boldsymbol{\\theta})}=\\ln{\\prod_{n=1}^{k}\\mu_{n}(\\mathbf{x})^{y_{n}}}=\\sum_{n=1}^{k}y_{n}\\ln{\\mu_{n}(\\mathbf{x})}$,\n",
        "\n",
        "where $\\mu_{n}(\\mathbf{x})$ depends on the parameters $\\boldsymbol{\\theta}$ of the neural network. The log likelihood measures how likely $\\mathbf{y}$ is given $\\mathbf{x}$ and the parameters $\\boldsymbol{\\theta}$. Maximizing the expected log likelihood over the complete data set yields the optimal parameters\n",
        "\n",
        "$\\boldsymbol{\\theta}^{\\star}=\\arg\\max_{\\boldsymbol{\\theta}}\\mathbb{E}\\left[\\mathcal{L}(\\mathbf{x},\\mathbf{y},\\boldsymbol{\\theta})\\right]=\\arg\\min_{\\boldsymbol{\\theta}}-\\mathbb{E}\\left[\\sum_{n=1}^{k}y_{n}\\ln{\\mu_{n}(\\mathbf{x})}\\right]\\approx\\arg\\min_{\\boldsymbol{\\theta}}-\\dfrac{1}{N}\\sum_{i=1}^{N}\\sum_{n=1}^{k}y_{n,i}\\ln{\\mu_{n}(\\mathbf{x}_{i})}$,\n",
        "\n",
        "where we have reformulated the maximization as a minimization of the negative objective function and approximated the expectation with a sum. As you probably already noticed, the last term is the cross entropy loss that you are familiar with from the lecture. We can now again use SGD or some variant of it in order to minimize the cost function and obtain find some good parameters for our neural network. But keep in mind that while $\\boldsymbol{\\theta}^{\\star}$ are the globally optimal parameters, we are usually only able to find locally optimal parameters due to the non-convex cost function that we are minimizing.\n",
        "\n",
        "## Data set\n",
        "In this exercise we will use common data sets like the MNIST or FashionMNIST data sets. Those and some other data sets are provided through simple functions in the Keras implementation of Tensorflow. For an overview of available data sets and how to use them click [here](https://www.tensorflow.org/versions/r2.0/api_docs/python/tf/keras/datasets). The MNIST data set is a simple and very popular data set for handwritten digit classification. It contains $70000$ images with $28\\times 28$ pixels that are split into $60000$ training and $10000$ test samples. Since the task is to classify a handwritten digit, the labels $y$ for each image are from the set $\\lbrace0,\\ldots,9\\rbrace$. The FashionMNIST data set is very similar to MNIST it also has approximately the same number of images with exactly the same dimensions as MNIST. It was provided by Zalando research and contains $10$ classes of different fashion objects.\n",
        "\n",
        "## Implementation\n",
        "In order to use Tensorflow 2.0 we will again need to manully install it, since it currently is not pre-installed on colab runtime instances."
      ]
    },
    {
      "cell_type": "code",
      "metadata": {
        "id": "La0-_dZvj0bx",
        "colab": {
          "base_uri": "https://localhost:8080/",
          "height": 384
        },
        "outputId": "7b694e53-eedc-4bf8-a64d-5b28bf5f53fa"
      },
      "source": [
        "!pip3 install tensorflow-gpu==2.0.0-beta0"
      ],
      "execution_count": null,
      "outputs": [
        {
          "output_type": "stream",
          "text": [
            "Requirement already satisfied: tensorflow-gpu==2.0.0-beta0 in /usr/local/lib/python3.6/dist-packages (2.0.0b0)\n",
            "Requirement already satisfied: astor>=0.6.0 in /usr/local/lib/python3.6/dist-packages (from tensorflow-gpu==2.0.0-beta0) (0.8.0)\n",
            "Requirement already satisfied: tf-estimator-nightly<1.14.0.dev2019060502,>=1.14.0.dev2019060501 in /usr/local/lib/python3.6/dist-packages (from tensorflow-gpu==2.0.0-beta0) (1.14.0.dev2019060501)\n",
            "Requirement already satisfied: absl-py>=0.7.0 in /usr/local/lib/python3.6/dist-packages (from tensorflow-gpu==2.0.0-beta0) (0.7.1)\n",
            "Requirement already satisfied: wrapt>=1.11.1 in /usr/local/lib/python3.6/dist-packages (from tensorflow-gpu==2.0.0-beta0) (1.11.2)\n",
            "Requirement already satisfied: tb-nightly<1.14.0a20190604,>=1.14.0a20190603 in /usr/local/lib/python3.6/dist-packages (from tensorflow-gpu==2.0.0-beta0) (1.14.0a20190603)\n",
            "Requirement already satisfied: grpcio>=1.8.6 in /usr/local/lib/python3.6/dist-packages (from tensorflow-gpu==2.0.0-beta0) (1.15.0)\n",
            "Requirement already satisfied: gast>=0.2.0 in /usr/local/lib/python3.6/dist-packages (from tensorflow-gpu==2.0.0-beta0) (0.2.2)\n",
            "Requirement already satisfied: six>=1.10.0 in /usr/local/lib/python3.6/dist-packages (from tensorflow-gpu==2.0.0-beta0) (1.12.0)\n",
            "Requirement already satisfied: wheel>=0.26 in /usr/local/lib/python3.6/dist-packages (from tensorflow-gpu==2.0.0-beta0) (0.33.4)\n",
            "Requirement already satisfied: termcolor>=1.1.0 in /usr/local/lib/python3.6/dist-packages (from tensorflow-gpu==2.0.0-beta0) (1.1.0)\n",
            "Requirement already satisfied: keras-applications>=1.0.6 in /usr/local/lib/python3.6/dist-packages (from tensorflow-gpu==2.0.0-beta0) (1.0.8)\n",
            "Requirement already satisfied: keras-preprocessing>=1.0.5 in /usr/local/lib/python3.6/dist-packages (from tensorflow-gpu==2.0.0-beta0) (1.1.0)\n",
            "Requirement already satisfied: google-pasta>=0.1.6 in /usr/local/lib/python3.6/dist-packages (from tensorflow-gpu==2.0.0-beta0) (0.1.7)\n",
            "Requirement already satisfied: protobuf>=3.6.1 in /usr/local/lib/python3.6/dist-packages (from tensorflow-gpu==2.0.0-beta0) (3.7.1)\n",
            "Requirement already satisfied: numpy<2.0,>=1.14.5 in /usr/local/lib/python3.6/dist-packages (from tensorflow-gpu==2.0.0-beta0) (1.16.4)\n",
            "Requirement already satisfied: markdown>=2.6.8 in /usr/local/lib/python3.6/dist-packages (from tb-nightly<1.14.0a20190604,>=1.14.0a20190603->tensorflow-gpu==2.0.0-beta0) (3.1.1)\n",
            "Requirement already satisfied: setuptools>=41.0.0 in /usr/local/lib/python3.6/dist-packages (from tb-nightly<1.14.0a20190604,>=1.14.0a20190603->tensorflow-gpu==2.0.0-beta0) (41.0.1)\n",
            "Requirement already satisfied: werkzeug>=0.11.15 in /usr/local/lib/python3.6/dist-packages (from tb-nightly<1.14.0a20190604,>=1.14.0a20190603->tensorflow-gpu==2.0.0-beta0) (0.15.4)\n",
            "Requirement already satisfied: h5py in /usr/local/lib/python3.6/dist-packages (from keras-applications>=1.0.6->tensorflow-gpu==2.0.0-beta0) (2.8.0)\n"
          ],
          "name": "stdout"
        }
      ]
    },
    {
      "cell_type": "markdown",
      "metadata": {
        "id": "9Iq7YjxrkEmZ"
      },
      "source": [
        "We can then simply import all required packages and load some data set using Keras."
      ]
    },
    {
      "cell_type": "code",
      "metadata": {
        "id": "9Xk5sOe1kLgo",
        "colab": {
          "base_uri": "https://localhost:8080/",
          "height": 51
        },
        "outputId": "c52468cb-b4fc-4255-99fd-ba21b5c0cdc2"
      },
      "source": [
        "import tensorflow as tf\n",
        "import tensorflow.keras as k\n",
        "import numpy as np\n",
        "import matplotlib.pyplot as plt\n",
        "\n",
        "# Define constants\n",
        "batch_size = 128\n",
        "epochs = 20\n",
        "learning_rate = 0.001\n",
        "\n",
        "(x_train_mnist, y_train_mnist), (x_test_mnist, y_test_mnist) = tf.keras.datasets.mnist.load_data()\n",
        "x_train_mnist = np.expand_dims(x_train_mnist, axis=-1).astype(np.float32)\n",
        "x_test_mnist = np.expand_dims(x_test_mnist, axis=-1).astype(np.float32)"
      ],
      "execution_count": null,
      "outputs": [
        {
          "output_type": "stream",
          "text": [
            "Downloading data from https://storage.googleapis.com/tensorflow/tf-keras-datasets/mnist.npz\n",
            "11493376/11490434 [==============================] - 0s 0us/step\n"
          ],
          "name": "stdout"
        }
      ]
    },
    {
      "cell_type": "markdown",
      "metadata": {
        "id": "jrs0EEdOknCB"
      },
      "source": [
        "We can also plot some examples in order to get an impresion of what the data looks like."
      ]
    },
    {
      "cell_type": "code",
      "metadata": {
        "id": "iqN-BjZpkxb4",
        "colab": {
          "base_uri": "https://localhost:8080/",
          "height": 269
        },
        "outputId": "b7254be0-aa98-4a74-ac22-767ca62a73dc"
      },
      "source": [
        "plt_img = np.zeros((280, 280))\n",
        "for i in range(10):\n",
        "  for j in range(10):\n",
        "    plt_img[i*28:(i+1)*28, j*28:(j+1)*28] = np.squeeze(x_train_mnist[i*10+j])\n",
        "plt.imshow(plt_img, cmap=\"gray\")\n",
        "plt.axis(\"off\")\n",
        "plt.show()"
      ],
      "execution_count": null,
      "outputs": [
        {
          "output_type": "display_data",
          "data": {
            "image/png": "[encoded data removed]",
            "text/plain": [
              "<Figure size 432x288 with 1 Axes>"
            ]
          },
          "metadata": {
            "tags": []
          }
        }
      ]
    },
    {
      "cell_type": "markdown",
      "metadata": {
        "id": "83RW1--_mTH7"
      },
      "source": [
        "Similar to the previous exercises we again derive a class for our model from the Keras Model class."
      ]
    },
    {
      "cell_type": "code",
      "metadata": {
        "id": "tmk7DlUWoq5X"
      },
      "source": [
        "class MyModel(k.Model):\n",
        "    def __init__(self):\n",
        "        super(MyModel, self).__init__()\n",
        "        self.conv0 = k.layers.Conv2D(8, 3, 2, activation=\"relu\")\n",
        "        self.conv1 = k.layers.Conv2D(16, 3, 2, activation=\"relu\")\n",
        "        self.flatten = k.layers.Flatten()\n",
        "        self.dense0 = k.layers.Dense(128, activation=\"relu\")\n",
        "        self.dense1 = k.layers.Dense(64, activation=\"relu\")\n",
        "        self.dense2 = k.layers.Dense(10, activation=\"softmax\")\n",
        "\n",
        "    def call(self, inputs, training=False):\n",
        "        output = self.conv0(inputs)\n",
        "        output = self.conv1(output)\n",
        "        output = self.flatten(output)\n",
        "        output = self.dense0(output)\n",
        "        output = self.dense1(output)\n",
        "        output = self.dense2(output)\n",
        "        return output"
      ],
      "execution_count": null,
      "outputs": []
    },
    {
      "cell_type": "markdown",
      "metadata": {
        "id": "1yVUfCeso4TS"
      },
      "source": [
        "We can now instanciate an object of this class and compile it using the the cross-entropy loss function."
      ]
    },
    {
      "cell_type": "code",
      "metadata": {
        "id": "1-hWI4rVpvdU"
      },
      "source": [
        "mdl = MyModel()\n",
        "opt = tf.keras.optimizers.RMSprop(learning_rate)\n",
        "mdl.compile(loss=\"sparse_categorical_crossentropy\", optimizer=opt, metrics=[\"accuracy\"])"
      ],
      "execution_count": null,
      "outputs": []
    },
    {
      "cell_type": "markdown",
      "metadata": {
        "id": "bzMR_g1-qHTx"
      },
      "source": [
        "Now we are ready to train the model and log the metrics for plotting."
      ]
    },
    {
      "cell_type": "code",
      "metadata": {
        "id": "V1vU1bnnqJZG",
        "colab": {
          "base_uri": "https://localhost:8080/",
          "height": 770
        },
        "outputId": "35bf9019-41d2-4cee-af2c-af6614d89d6c"
      },
      "source": [
        "history_no_dropout = mdl.fit(x_train_mnist, y_train_mnist, batch_size, epochs, validation_split=0.1)"
      ],
      "execution_count": null,
      "outputs": [
        {
          "output_type": "stream",
          "text": [
            "Train on 54000 samples, validate on 6000 samples\n",
            "Epoch 1/20\n",
            "54000/54000 [==============================] - 3s 52us/sample - loss: 0.4545 - accuracy: 0.8867 - val_loss: 0.1185 - val_accuracy: 0.9682\n",
            "Epoch 2/20\n",
            "54000/54000 [==============================] - 2s 45us/sample - loss: 0.0959 - accuracy: 0.9709 - val_loss: 0.0858 - val_accuracy: 0.9770\n",
            "Epoch 3/20\n",
            "54000/54000 [==============================] - 2s 45us/sample - loss: 0.0576 - accuracy: 0.9822 - val_loss: 0.0869 - val_accuracy: 0.9770\n",
            "Epoch 4/20\n",
            "54000/54000 [==============================] - 2s 45us/sample - loss: 0.0390 - accuracy: 0.9877 - val_loss: 0.0954 - val_accuracy: 0.9787\n",
            "Epoch 5/20\n",
            "54000/54000 [==============================] - 2s 45us/sample - loss: 0.0283 - accuracy: 0.9907 - val_loss: 0.0738 - val_accuracy: 0.9828\n",
            "Epoch 6/20\n",
            "54000/54000 [==============================] - 2s 45us/sample - loss: 0.0224 - accuracy: 0.9926 - val_loss: 0.0807 - val_accuracy: 0.9830\n",
            "Epoch 7/20\n",
            "54000/54000 [==============================] - 2s 45us/sample - loss: 0.0181 - accuracy: 0.9944 - val_loss: 0.0820 - val_accuracy: 0.9852\n",
            "Epoch 8/20\n",
            "54000/54000 [==============================] - 2s 45us/sample - loss: 0.0144 - accuracy: 0.9953 - val_loss: 0.0903 - val_accuracy: 0.9842\n",
            "Epoch 9/20\n",
            "54000/54000 [==============================] - 2s 45us/sample - loss: 0.0126 - accuracy: 0.9960 - val_loss: 0.1068 - val_accuracy: 0.9830\n",
            "Epoch 10/20\n",
            "54000/54000 [==============================] - 2s 45us/sample - loss: 0.0112 - accuracy: 0.9963 - val_loss: 0.0997 - val_accuracy: 0.9852\n",
            "Epoch 11/20\n",
            "54000/54000 [==============================] - 2s 45us/sample - loss: 0.0111 - accuracy: 0.9968 - val_loss: 0.0947 - val_accuracy: 0.9860\n",
            "Epoch 12/20\n",
            "54000/54000 [==============================] - 2s 45us/sample - loss: 0.0104 - accuracy: 0.9970 - val_loss: 0.1105 - val_accuracy: 0.9842\n",
            "Epoch 13/20\n",
            "54000/54000 [==============================] - 2s 45us/sample - loss: 0.0075 - accuracy: 0.9979 - val_loss: 0.1364 - val_accuracy: 0.9807\n",
            "Epoch 14/20\n",
            "54000/54000 [==============================] - 2s 45us/sample - loss: 0.0089 - accuracy: 0.9974 - val_loss: 0.1244 - val_accuracy: 0.9835\n",
            "Epoch 15/20\n",
            "54000/54000 [==============================] - 2s 45us/sample - loss: 0.0076 - accuracy: 0.9977 - val_loss: 0.1050 - val_accuracy: 0.9838\n",
            "Epoch 16/20\n",
            "54000/54000 [==============================] - 2s 45us/sample - loss: 0.0083 - accuracy: 0.9978 - val_loss: 0.1236 - val_accuracy: 0.9837\n",
            "Epoch 17/20\n",
            "54000/54000 [==============================] - 2s 45us/sample - loss: 0.0060 - accuracy: 0.9982 - val_loss: 0.1024 - val_accuracy: 0.9848\n",
            "Epoch 18/20\n",
            "54000/54000 [==============================] - 2s 45us/sample - loss: 0.0069 - accuracy: 0.9980 - val_loss: 0.1217 - val_accuracy: 0.9837\n",
            "Epoch 19/20\n",
            "54000/54000 [==============================] - 2s 45us/sample - loss: 0.0061 - accuracy: 0.9985 - val_loss: 0.1492 - val_accuracy: 0.9828\n",
            "Epoch 20/20\n",
            "54000/54000 [==============================] - 2s 44us/sample - loss: 0.0068 - accuracy: 0.9984 - val_loss: 0.1329 - val_accuracy: 0.9853\n"
          ],
          "name": "stdout"
        }
      ]
    },
    {
      "cell_type": "markdown",
      "metadata": {
        "id": "4OhKjUnwtr3M"
      },
      "source": [
        "Visualizing the training process in a plot is possible by using the history object that contains a history dictionary. This is returned from the fit function and contains all the metrics logged over the training proces."
      ]
    },
    {
      "cell_type": "code",
      "metadata": {
        "id": "bPuH5kBQt5yw",
        "colab": {
          "base_uri": "https://localhost:8080/",
          "height": 295
        },
        "outputId": "89b7a021-1e31-41b4-80b2-c4e3be1c2fb9"
      },
      "source": [
        "plt.plot(history_no_dropout.history[\"loss\"])\n",
        "plt.plot(history_no_dropout.history[\"val_loss\"])\n",
        "plt.legend([\"loss\", \"val_loss\"])\n",
        "plt.xticks(range(epochs))\n",
        "plt.xlabel(\"epochs\")\n",
        "plt.title(\"Training process\")\n",
        "plt.show()"
      ],
      "execution_count": null,
      "outputs": [
        {
          "output_type": "display_data",
          "data": {
            "image/png": "[encoded data removed]",
            "text/plain": [
              "<Figure size 432x288 with 1 Axes>"
            ]
          },
          "metadata": {
            "tags": []
          }
        }
      ]
    },
    {
      "cell_type": "markdown",
      "metadata": {
        "id": "bB1KeA-Ww9nE"
      },
      "source": [
        "As you can see, the model is clearly overfitting. The loss on the training data is decreasing further and further with every epoch, while the loss on the validation data rises at the same time. We can avoid this by using dropout, which is a strong regularization that you should be familiar with from the lecture. For this we define a new model that has an additional dropout layer with a drop probability of $0.2$ before the first fully connected layer. Otherwise this model is the same as the model above."
      ]
    },
    {
      "cell_type": "code",
      "metadata": {
        "id": "NowP4zSsxfhe"
      },
      "source": [
        "class MyDropoutModel(k.Model):\n",
        "    def __init__(self):\n",
        "        super(MyDropoutModel, self).__init__()\n",
        "        self.conv0 = k.layers.Conv2D(8, 3, 2, activation=\"relu\")\n",
        "        self.conv1 = k.layers.Conv2D(16, 3, 2, activation=\"relu\")\n",
        "        self.flatten = k.layers.Flatten()\n",
        "        self.dropout = k.layers.Dropout(0.25)\n",
        "        self.dense0 = k.layers.Dense(128, activation=\"relu\")\n",
        "        self.dense1 = k.layers.Dense(64, activation=\"relu\")\n",
        "        self.dense2 = k.layers.Dense(10, activation=\"softmax\")\n",
        "\n",
        "    def call(self, inputs, training=False):\n",
        "        output = self.conv0(inputs)\n",
        "        output = self.conv1(output)\n",
        "        output = self.flatten(output)\n",
        "        output = self.dropout(output, training)\n",
        "        output = self.dense0(output)\n",
        "        output = self.dense1(output)\n",
        "        output = self.dense2(output)\n",
        "        return output"
      ],
      "execution_count": null,
      "outputs": []
    },
    {
      "cell_type": "markdown",
      "metadata": {
        "id": "_XivWPeUxphB"
      },
      "source": [
        "We can now create an instance of this model, train it and visualize the training process."
      ]
    },
    {
      "cell_type": "code",
      "metadata": {
        "id": "VZxNQX2Bxtno",
        "colab": {
          "base_uri": "https://localhost:8080/",
          "height": 1000
        },
        "outputId": "b23313fd-e3b6-4457-84c5-9847058cb10b"
      },
      "source": [
        "dropout_mdl = MyDropoutModel()\n",
        "dropout_opt = tf.keras.optimizers.RMSprop(learning_rate)\n",
        "dropout_mdl.compile(loss=\"sparse_categorical_crossentropy\", optimizer=dropout_opt, metrics=[\"accuracy\"])\n",
        "\n",
        "history_dropout = dropout_mdl.fit(x_train_mnist, y_train_mnist, batch_size, epochs, validation_split=0.1)\n",
        "\n",
        "plt.plot(history_no_dropout.history[\"loss\"])\n",
        "plt.plot(history_no_dropout.history[\"val_loss\"])\n",
        "plt.plot(history_dropout.history[\"loss\"])\n",
        "plt.plot(history_dropout.history[\"val_loss\"])\n",
        "plt.legend([\"loss\", \"val_loss\", \"loss w. dropout\", \"val_loss w. dropout\"])\n",
        "plt.xticks(range(epochs))\n",
        "plt.xlabel(\"epochs\")\n",
        "plt.title(\"Training process\")\n",
        "plt.show()"
      ],
      "execution_count": null,
      "outputs": [
        {
          "output_type": "stream",
          "text": [
            "Train on 54000 samples, validate on 6000 samples\n",
            "Epoch 1/20\n",
            "54000/54000 [==============================] - 3s 63us/sample - loss: 0.7726 - accuracy: 0.8493 - val_loss: 0.1266 - val_accuracy: 0.9640\n",
            "Epoch 2/20\n",
            "54000/54000 [==============================] - 3s 55us/sample - loss: 0.1680 - accuracy: 0.9489 - val_loss: 0.0848 - val_accuracy: 0.9778\n",
            "Epoch 3/20\n",
            "54000/54000 [==============================] - 3s 53us/sample - loss: 0.1181 - accuracy: 0.9644 - val_loss: 0.0748 - val_accuracy: 0.9770\n",
            "Epoch 4/20\n",
            "54000/54000 [==============================] - 3s 54us/sample - loss: 0.0966 - accuracy: 0.9706 - val_loss: 0.0743 - val_accuracy: 0.9812\n",
            "Epoch 5/20\n",
            "54000/54000 [==============================] - 3s 54us/sample - loss: 0.0849 - accuracy: 0.9740 - val_loss: 0.0669 - val_accuracy: 0.9807\n",
            "Epoch 6/20\n",
            "54000/54000 [==============================] - 3s 54us/sample - loss: 0.0727 - accuracy: 0.9775 - val_loss: 0.0656 - val_accuracy: 0.9827\n",
            "Epoch 7/20\n",
            "54000/54000 [==============================] - 3s 53us/sample - loss: 0.0675 - accuracy: 0.9797 - val_loss: 0.0594 - val_accuracy: 0.9847\n",
            "Epoch 8/20\n",
            "54000/54000 [==============================] - 3s 54us/sample - loss: 0.0610 - accuracy: 0.9811 - val_loss: 0.0611 - val_accuracy: 0.9848\n",
            "Epoch 9/20\n",
            "54000/54000 [==============================] - 3s 55us/sample - loss: 0.0562 - accuracy: 0.9823 - val_loss: 0.0564 - val_accuracy: 0.9838\n",
            "Epoch 10/20\n",
            "54000/54000 [==============================] - 3s 54us/sample - loss: 0.0542 - accuracy: 0.9834 - val_loss: 0.0520 - val_accuracy: 0.9853\n",
            "Epoch 11/20\n",
            "54000/54000 [==============================] - 3s 55us/sample - loss: 0.0515 - accuracy: 0.9834 - val_loss: 0.0569 - val_accuracy: 0.9868\n",
            "Epoch 12/20\n",
            "54000/54000 [==============================] - 3s 54us/sample - loss: 0.0487 - accuracy: 0.9854 - val_loss: 0.0589 - val_accuracy: 0.9857\n",
            "Epoch 13/20\n",
            "54000/54000 [==============================] - 3s 54us/sample - loss: 0.0464 - accuracy: 0.9857 - val_loss: 0.0573 - val_accuracy: 0.9852\n",
            "Epoch 14/20\n",
            "54000/54000 [==============================] - 3s 54us/sample - loss: 0.0436 - accuracy: 0.9863 - val_loss: 0.0538 - val_accuracy: 0.9870\n",
            "Epoch 15/20\n",
            "54000/54000 [==============================] - 3s 54us/sample - loss: 0.0412 - accuracy: 0.9868 - val_loss: 0.0557 - val_accuracy: 0.9873\n",
            "Epoch 16/20\n",
            "54000/54000 [==============================] - 3s 55us/sample - loss: 0.0418 - accuracy: 0.9873 - val_loss: 0.0564 - val_accuracy: 0.9870\n",
            "Epoch 17/20\n",
            "54000/54000 [==============================] - 3s 54us/sample - loss: 0.0399 - accuracy: 0.9881 - val_loss: 0.0562 - val_accuracy: 0.9862\n",
            "Epoch 18/20\n",
            "54000/54000 [==============================] - 3s 54us/sample - loss: 0.0385 - accuracy: 0.9885 - val_loss: 0.0602 - val_accuracy: 0.9858\n",
            "Epoch 19/20\n",
            "54000/54000 [==============================] - 3s 53us/sample - loss: 0.0387 - accuracy: 0.9879 - val_loss: 0.0544 - val_accuracy: 0.9888\n",
            "Epoch 20/20\n",
            "54000/54000 [==============================] - 3s 52us/sample - loss: 0.0349 - accuracy: 0.9886 - val_loss: 0.0562 - val_accuracy: 0.9870\n"
          ],
          "name": "stdout"
        },
        {
          "output_type": "display_data",
          "data": {
            "image/png": "[encoded data removed]",
            "text/plain": [
              "<Figure size 432x288 with 1 Axes>"
            ]
          },
          "metadata": {
            "tags": []
          }
        }
      ]
    },
    {
      "cell_type": "markdown",
      "metadata": {
        "id": "bKRoJPWNNBxS"
      },
      "source": [
        "While the model without dropout can reach a much lower loss on the training data, it generalizes very poorly to the unseen validation data. The model with dropout however generalizes quite good to the validation data and achieves a similar loss on both the data used during training and unseen data. This demonstrates that using dropout can be a good way to regularize your networks and prevent overfitting. Although dropout helps to prevent overfitting very well, it introduces another hyperparameter, the drop probability, that needs to be optimized. Common values for this hyperparameter are on the interval $\\left[0.2,0.5\\right]$.\n",
        "\n",
        "## Transfer Learning\n",
        "In many applications there is only a limited amount of annotated data available. In order to still train a neural network that generalizes well on such a data set, one can use transfer learning. In transfer learning the goal is to transfer knowledge from a source domain or task to a target domain or rask. The hope is that this transfer will be positive, i.e. the performance on the target domain or task increases compared to only training on the target data set. A requirement for succesfull transfer learning is that the source and target have something in common, e.g. similar features. There is a broad literature on transfer learning methods but in this exercise we will restrict ourselves to the most basic approach, fine tuning. Fine tuning can be implemented by using a part of a neural network, which was trained on the source domain or task, as a feature extractor. A common approach is to use neral network pretrained on the ImageNet data set as a feature extractor. In this exercise we will also use a neural network pretrained on ImageNet in order to fine tune it for the [Caltech 101](http://www.vision.caltech.edu/Image_Datasets/Caltech101/) data set. For a guide on transfer learning using fine tuning with Keras click [here](https://www.tensorflow.org/beta/tutorials/images/transfer_learning).\n",
        "\n",
        "In order to do this we first need to download an extract the data set."
      ]
    },
    {
      "cell_type": "code",
      "metadata": {
        "id": "WZLz-aD6tgvR",
        "colab": {
          "base_uri": "https://localhost:8080/",
          "height": 204
        },
        "outputId": "8b8b2394-64e0-4adb-b4c3-e586dc97e998"
      },
      "source": [
        "!wget -N http://www.vision.caltech.edu/Image_Datasets/Caltech101/101_ObjectCategories.tar.gz\n",
        "!tar -xzf 101_ObjectCategories.tar.gz"
      ],
      "execution_count": null,
      "outputs": [
        {
          "output_type": "stream",
          "text": [
            "--2020-06-28 20:31:49--  http://www.vision.caltech.edu/Image_Datasets/Caltech101/101_ObjectCategories.tar.gz\n",
            "Resolving www.vision.caltech.edu (www.vision.caltech.edu)... 34.208.54.77\n",
            "Connecting to www.vision.caltech.edu (www.vision.caltech.edu)|34.208.54.77|:80... connected.\n",
            "HTTP request sent, awaiting response... 200 OK\n",
            "Length: 131740031 (126M) [application/x-tar]\n",
            "Saving to: ‘101_ObjectCategories.tar.gz’\n",
            "\n",
            "101_ObjectCategorie 100%[===================>] 125.64M  7.13MB/s    in 23s     \n",
            "\n",
            "2020-06-28 20:32:13 (5.40 MB/s) - ‘101_ObjectCategories.tar.gz’ saved [131740031/131740031]\n",
            "\n"
          ],
          "name": "stdout"
        }
      ]
    },
    {
      "cell_type": "markdown",
      "metadata": {
        "id": "4YVR0yd-3A3w"
      },
      "source": [
        "In order to feed our model with the data, we will use the ImageDataGenerator class provided by Keras. This class can be used for reading files from a structured directory, create the labels based on the structure of the directory and apply data augmentation techniques. The ImageDataGenerator already supports a lot of techniques for data augmentation. In our example, we use a random rotation, width shift, height shift, shearing, zomming and horizontal flipping. All of those operations are applied randomly to individual images. More information on the available transformations for data augmentation and how to use them see the [documentation](https://www.tensorflow.org/versions/r2.0/api_docs/python/tf/keras/preprocessing/image/ImageDataGenerator#__init__)."
      ]
    },
    {
      "cell_type": "code",
      "metadata": {
        "id": "WueTCO3F3iKl"
      },
      "source": [
        "N_samples_Caltech101 = 9144\n",
        "val_split = 0.1\n",
        "datagen = k.preprocessing.image.ImageDataGenerator(validation_split=val_split,\n",
        "                                                   preprocessing_function=k.applications.mobilenet_v2.preprocess_input,\n",
        "                                                   rotation_range=20,\n",
        "                                                   width_shift_range=0.1,\n",
        "                                                   height_shift_range=0.1,\n",
        "                                                   shear_range=0.1,\n",
        "                                                   zoom_range=0.1,\n",
        "                                                   horizontal_flip=True)"
      ],
      "execution_count": null,
      "outputs": []
    },
    {
      "cell_type": "markdown",
      "metadata": {
        "id": "PyqbHZfO0ein"
      },
      "source": [
        "Now that we have the data set we can load the pretrained model. Keras provides a range of pretrained models called \"applications\". We will use the MobileNetV2 architecture without it's output layer, since we want to modify it in order to aplly the model to the Caltech 101 data set."
      ]
    },
    {
      "cell_type": "code",
      "metadata": {
        "id": "ZkGHDLKZ0uUy",
        "colab": {
          "base_uri": "https://localhost:8080/",
          "height": 1000
        },
        "outputId": "edf3bdfb-bfba-405c-f17f-ee94b87aae43"
      },
      "source": [
        "base_model = k.applications.MobileNetV2(input_shape=(224, 224, 3), include_top=False, weights='imagenet')\n",
        "base_model.summary()"
      ],
      "execution_count": null,
      "outputs": [
        {
          "output_type": "stream",
          "text": [
            "Downloading data from https://storage.googleapis.com/tensorflow/keras-applications/mobilenet_v2/mobilenet_v2_weights_tf_dim_ordering_tf_kernels_1.0_224_no_top.h5\n",
            "9412608/9406464 [==============================] - 0s 0us/step\n",
            "Model: \"mobilenetv2_1.00_224\"\n",
            "__________________________________________________________________________________________________\n",
            "Layer (type)                    Output Shape         Param #     Connected to                     \n",
            "==================================================================================================\n",
            "input_1 (InputLayer)            [(None, 224, 224, 3) 0                                            \n",
            "__________________________________________________________________________________________________\n",
            "Conv1_pad (ZeroPadding2D)       (None, 225, 225, 3)  0           input_1[0][0]                    \n",
            "__________________________________________________________________________________________________\n",
            "Conv1 (Conv2D)                  (None, 112, 112, 32) 864         Conv1_pad[0][0]                  \n",
            "__________________________________________________________________________________________________\n",
            "bn_Conv1 (BatchNormalization)   (None, 112, 112, 32) 128         Conv1[0][0]                      \n",
            "__________________________________________________________________________________________________\n",
            "Conv1_relu (ReLU)               (None, 112, 112, 32) 0           bn_Conv1[0][0]                   \n",
            "__________________________________________________________________________________________________\n",
            "expanded_conv_depthwise (Depthw (None, 112, 112, 32) 288         Conv1_relu[0][0]                 \n",
            "__________________________________________________________________________________________________\n",
            "expanded_conv_depthwise_BN (Bat (None, 112, 112, 32) 128         expanded_conv_depthwise[0][0]    \n",
            "__________________________________________________________________________________________________\n",
            "expanded_conv_depthwise_relu (R (None, 112, 112, 32) 0           expanded_conv_depthwise_BN[0][0] \n",
            "__________________________________________________________________________________________________\n",
            "expanded_conv_project (Conv2D)  (None, 112, 112, 16) 512         expanded_conv_depthwise_relu[0][0\n",
            "__________________________________________________________________________________________________\n",
            "expanded_conv_project_BN (Batch (None, 112, 112, 16) 64          expanded_conv_project[0][0]      \n",
            "__________________________________________________________________________________________________\n",
            "block_1_expand (Conv2D)         (None, 112, 112, 96) 1536        expanded_conv_project_BN[0][0]   \n",
            "__________________________________________________________________________________________________\n",
            "block_1_expand_BN (BatchNormali (None, 112, 112, 96) 384         block_1_expand[0][0]             \n",
            "__________________________________________________________________________________________________\n",
            "block_1_expand_relu (ReLU)      (None, 112, 112, 96) 0           block_1_expand_BN[0][0]          \n",
            "__________________________________________________________________________________________________\n",
            "block_1_pad (ZeroPadding2D)     (None, 113, 113, 96) 0           block_1_expand_relu[0][0]        \n",
            "__________________________________________________________________________________________________\n",
            "block_1_depthwise (DepthwiseCon (None, 56, 56, 96)   864         block_1_pad[0][0]                \n",
            "__________________________________________________________________________________________________\n",
            "block_1_depthwise_BN (BatchNorm (None, 56, 56, 96)   384         block_1_depthwise[0][0]          \n",
            "__________________________________________________________________________________________________\n",
            "block_1_depthwise_relu (ReLU)   (None, 56, 56, 96)   0           block_1_depthwise_BN[0][0]       \n",
            "__________________________________________________________________________________________________\n",
            "block_1_project (Conv2D)        (None, 56, 56, 24)   2304        block_1_depthwise_relu[0][0]     \n",
            "__________________________________________________________________________________________________\n",
            "block_1_project_BN (BatchNormal (None, 56, 56, 24)   96          block_1_project[0][0]            \n",
            "__________________________________________________________________________________________________\n",
            "block_2_expand (Conv2D)         (None, 56, 56, 144)  3456        block_1_project_BN[0][0]         \n",
            "__________________________________________________________________________________________________\n",
            "block_2_expand_BN (BatchNormali (None, 56, 56, 144)  576         block_2_expand[0][0]             \n",
            "__________________________________________________________________________________________________\n",
            "block_2_expand_relu (ReLU)      (None, 56, 56, 144)  0           block_2_expand_BN[0][0]          \n",
            "__________________________________________________________________________________________________\n",
            "block_2_depthwise (DepthwiseCon (None, 56, 56, 144)  1296        block_2_expand_relu[0][0]        \n",
            "__________________________________________________________________________________________________\n",
            "block_2_depthwise_BN (BatchNorm (None, 56, 56, 144)  576         block_2_depthwise[0][0]          \n",
            "__________________________________________________________________________________________________\n",
            "block_2_depthwise_relu (ReLU)   (None, 56, 56, 144)  0           block_2_depthwise_BN[0][0]       \n",
            "__________________________________________________________________________________________________\n",
            "block_2_project (Conv2D)        (None, 56, 56, 24)   3456        block_2_depthwise_relu[0][0]     \n",
            "__________________________________________________________________________________________________\n",
            "block_2_project_BN (BatchNormal (None, 56, 56, 24)   96          block_2_project[0][0]            \n",
            "__________________________________________________________________________________________________\n",
            "block_2_add (Add)               (None, 56, 56, 24)   0           block_1_project_BN[0][0]         \n",
            "                                                                 block_2_project_BN[0][0]         \n",
            "__________________________________________________________________________________________________\n",
            "block_3_expand (Conv2D)         (None, 56, 56, 144)  3456        block_2_add[0][0]                \n",
            "__________________________________________________________________________________________________\n",
            "block_3_expand_BN (BatchNormali (None, 56, 56, 144)  576         block_3_expand[0][0]             \n",
            "__________________________________________________________________________________________________\n",
            "block_3_expand_relu (ReLU)      (None, 56, 56, 144)  0           block_3_expand_BN[0][0]          \n",
            "__________________________________________________________________________________________________\n",
            "block_3_pad (ZeroPadding2D)     (None, 57, 57, 144)  0           block_3_expand_relu[0][0]        \n",
            "__________________________________________________________________________________________________\n",
            "block_3_depthwise (DepthwiseCon (None, 28, 28, 144)  1296        block_3_pad[0][0]                \n",
            "__________________________________________________________________________________________________\n",
            "block_3_depthwise_BN (BatchNorm (None, 28, 28, 144)  576         block_3_depthwise[0][0]          \n",
            "__________________________________________________________________________________________________\n",
            "block_3_depthwise_relu (ReLU)   (None, 28, 28, 144)  0           block_3_depthwise_BN[0][0]       \n",
            "__________________________________________________________________________________________________\n",
            "block_3_project (Conv2D)        (None, 28, 28, 32)   4608        block_3_depthwise_relu[0][0]     \n",
            "__________________________________________________________________________________________________\n",
            "block_3_project_BN (BatchNormal (None, 28, 28, 32)   128         block_3_project[0][0]            \n",
            "__________________________________________________________________________________________________\n",
            "block_4_expand (Conv2D)         (None, 28, 28, 192)  6144        block_3_project_BN[0][0]         \n",
            "__________________________________________________________________________________________________\n",
            "block_4_expand_BN (BatchNormali (None, 28, 28, 192)  768         block_4_expand[0][0]             \n",
            "__________________________________________________________________________________________________\n",
            "block_4_expand_relu (ReLU)      (None, 28, 28, 192)  0           block_4_expand_BN[0][0]          \n",
            "__________________________________________________________________________________________________\n",
            "block_4_depthwise (DepthwiseCon (None, 28, 28, 192)  1728        block_4_expand_relu[0][0]        \n",
            "__________________________________________________________________________________________________\n",
            "block_4_depthwise_BN (BatchNorm (None, 28, 28, 192)  768         block_4_depthwise[0][0]          \n",
            "__________________________________________________________________________________________________\n",
            "block_4_depthwise_relu (ReLU)   (None, 28, 28, 192)  0           block_4_depthwise_BN[0][0]       \n",
            "__________________________________________________________________________________________________\n",
            "block_4_project (Conv2D)        (None, 28, 28, 32)   6144        block_4_depthwise_relu[0][0]     \n",
            "__________________________________________________________________________________________________\n",
            "block_4_project_BN (BatchNormal (None, 28, 28, 32)   128         block_4_project[0][0]            \n",
            "__________________________________________________________________________________________________\n",
            "block_4_add (Add)               (None, 28, 28, 32)   0           block_3_project_BN[0][0]         \n",
            "                                                                 block_4_project_BN[0][0]         \n",
            "__________________________________________________________________________________________________\n",
            "block_5_expand (Conv2D)         (None, 28, 28, 192)  6144        block_4_add[0][0]                \n",
            "__________________________________________________________________________________________________\n",
            "block_5_expand_BN (BatchNormali (None, 28, 28, 192)  768         block_5_expand[0][0]             \n",
            "__________________________________________________________________________________________________\n",
            "block_5_expand_relu (ReLU)      (None, 28, 28, 192)  0           block_5_expand_BN[0][0]          \n",
            "__________________________________________________________________________________________________\n",
            "block_5_depthwise (DepthwiseCon (None, 28, 28, 192)  1728        block_5_expand_relu[0][0]        \n",
            "__________________________________________________________________________________________________\n",
            "block_5_depthwise_BN (BatchNorm (None, 28, 28, 192)  768         block_5_depthwise[0][0]          \n",
            "__________________________________________________________________________________________________\n",
            "block_5_depthwise_relu (ReLU)   (None, 28, 28, 192)  0           block_5_depthwise_BN[0][0]       \n",
            "__________________________________________________________________________________________________\n",
            "block_5_project (Conv2D)        (None, 28, 28, 32)   6144        block_5_depthwise_relu[0][0]     \n",
            "__________________________________________________________________________________________________\n",
            "block_5_project_BN (BatchNormal (None, 28, 28, 32)   128         block_5_project[0][0]            \n",
            "__________________________________________________________________________________________________\n",
            "block_5_add (Add)               (None, 28, 28, 32)   0           block_4_add[0][0]                \n",
            "                                                                 block_5_project_BN[0][0]         \n",
            "__________________________________________________________________________________________________\n",
            "block_6_expand (Conv2D)         (None, 28, 28, 192)  6144        block_5_add[0][0]                \n",
            "__________________________________________________________________________________________________\n",
            "block_6_expand_BN (BatchNormali (None, 28, 28, 192)  768         block_6_expand[0][0]             \n",
            "__________________________________________________________________________________________________\n",
            "block_6_expand_relu (ReLU)      (None, 28, 28, 192)  0           block_6_expand_BN[0][0]          \n",
            "__________________________________________________________________________________________________\n",
            "block_6_pad (ZeroPadding2D)     (None, 29, 29, 192)  0           block_6_expand_relu[0][0]        \n",
            "__________________________________________________________________________________________________\n",
            "block_6_depthwise (DepthwiseCon (None, 14, 14, 192)  1728        block_6_pad[0][0]                \n",
            "__________________________________________________________________________________________________\n",
            "block_6_depthwise_BN (BatchNorm (None, 14, 14, 192)  768         block_6_depthwise[0][0]          \n",
            "__________________________________________________________________________________________________\n",
            "block_6_depthwise_relu (ReLU)   (None, 14, 14, 192)  0           block_6_depthwise_BN[0][0]       \n",
            "__________________________________________________________________________________________________\n",
            "block_6_project (Conv2D)        (None, 14, 14, 64)   12288       block_6_depthwise_relu[0][0]     \n",
            "__________________________________________________________________________________________________\n",
            "block_6_project_BN (BatchNormal (None, 14, 14, 64)   256         block_6_project[0][0]            \n",
            "__________________________________________________________________________________________________\n",
            "block_7_expand (Conv2D)         (None, 14, 14, 384)  24576       block_6_project_BN[0][0]         \n",
            "__________________________________________________________________________________________________\n",
            "block_7_expand_BN (BatchNormali (None, 14, 14, 384)  1536        block_7_expand[0][0]             \n",
            "__________________________________________________________________________________________________\n",
            "block_7_expand_relu (ReLU)      (None, 14, 14, 384)  0           block_7_expand_BN[0][0]          \n",
            "__________________________________________________________________________________________________\n",
            "block_7_depthwise (DepthwiseCon (None, 14, 14, 384)  3456        block_7_expand_relu[0][0]        \n",
            "__________________________________________________________________________________________________\n",
            "block_7_depthwise_BN (BatchNorm (None, 14, 14, 384)  1536        block_7_depthwise[0][0]          \n",
            "__________________________________________________________________________________________________\n",
            "block_7_depthwise_relu (ReLU)   (None, 14, 14, 384)  0           block_7_depthwise_BN[0][0]       \n",
            "__________________________________________________________________________________________________\n",
            "block_7_project (Conv2D)        (None, 14, 14, 64)   24576       block_7_depthwise_relu[0][0]     \n",
            "__________________________________________________________________________________________________\n",
            "block_7_project_BN (BatchNormal (None, 14, 14, 64)   256         block_7_project[0][0]            \n",
            "__________________________________________________________________________________________________\n",
            "block_7_add (Add)               (None, 14, 14, 64)   0           block_6_project_BN[0][0]         \n",
            "                                                                 block_7_project_BN[0][0]         \n",
            "__________________________________________________________________________________________________\n",
            "block_8_expand (Conv2D)         (None, 14, 14, 384)  24576       block_7_add[0][0]                \n",
            "__________________________________________________________________________________________________\n",
            "block_8_expand_BN (BatchNormali (None, 14, 14, 384)  1536        block_8_expand[0][0]             \n",
            "__________________________________________________________________________________________________\n",
            "block_8_expand_relu (ReLU)      (None, 14, 14, 384)  0           block_8_expand_BN[0][0]          \n",
            "__________________________________________________________________________________________________\n",
            "block_8_depthwise (DepthwiseCon (None, 14, 14, 384)  3456        block_8_expand_relu[0][0]        \n",
            "__________________________________________________________________________________________________\n",
            "block_8_depthwise_BN (BatchNorm (None, 14, 14, 384)  1536        block_8_depthwise[0][0]          \n",
            "__________________________________________________________________________________________________\n",
            "block_8_depthwise_relu (ReLU)   (None, 14, 14, 384)  0           block_8_depthwise_BN[0][0]       \n",
            "__________________________________________________________________________________________________\n",
            "block_8_project (Conv2D)        (None, 14, 14, 64)   24576       block_8_depthwise_relu[0][0]     \n",
            "__________________________________________________________________________________________________\n",
            "block_8_project_BN (BatchNormal (None, 14, 14, 64)   256         block_8_project[0][0]            \n",
            "__________________________________________________________________________________________________\n",
            "block_8_add (Add)               (None, 14, 14, 64)   0           block_7_add[0][0]                \n",
            "                                                                 block_8_project_BN[0][0]         \n",
            "__________________________________________________________________________________________________\n",
            "block_9_expand (Conv2D)         (None, 14, 14, 384)  24576       block_8_add[0][0]                \n",
            "__________________________________________________________________________________________________\n",
            "block_9_expand_BN (BatchNormali (None, 14, 14, 384)  1536        block_9_expand[0][0]             \n",
            "__________________________________________________________________________________________________\n",
            "block_9_expand_relu (ReLU)      (None, 14, 14, 384)  0           block_9_expand_BN[0][0]          \n",
            "__________________________________________________________________________________________________\n",
            "block_9_depthwise (DepthwiseCon (None, 14, 14, 384)  3456        block_9_expand_relu[0][0]        \n",
            "__________________________________________________________________________________________________\n",
            "block_9_depthwise_BN (BatchNorm (None, 14, 14, 384)  1536        block_9_depthwise[0][0]          \n",
            "__________________________________________________________________________________________________\n",
            "block_9_depthwise_relu (ReLU)   (None, 14, 14, 384)  0           block_9_depthwise_BN[0][0]       \n",
            "__________________________________________________________________________________________________\n",
            "block_9_project (Conv2D)        (None, 14, 14, 64)   24576       block_9_depthwise_relu[0][0]     \n",
            "__________________________________________________________________________________________________\n",
            "block_9_project_BN (BatchNormal (None, 14, 14, 64)   256         block_9_project[0][0]            \n",
            "__________________________________________________________________________________________________\n",
            "block_9_add (Add)               (None, 14, 14, 64)   0           block_8_add[0][0]                \n",
            "                                                                 block_9_project_BN[0][0]         \n",
            "__________________________________________________________________________________________________\n",
            "block_10_expand (Conv2D)        (None, 14, 14, 384)  24576       block_9_add[0][0]                \n",
            "__________________________________________________________________________________________________\n",
            "block_10_expand_BN (BatchNormal (None, 14, 14, 384)  1536        block_10_expand[0][0]            \n",
            "__________________________________________________________________________________________________\n",
            "block_10_expand_relu (ReLU)     (None, 14, 14, 384)  0           block_10_expand_BN[0][0]         \n",
            "__________________________________________________________________________________________________\n",
            "block_10_depthwise (DepthwiseCo (None, 14, 14, 384)  3456        block_10_expand_relu[0][0]       \n",
            "__________________________________________________________________________________________________\n",
            "block_10_depthwise_BN (BatchNor (None, 14, 14, 384)  1536        block_10_depthwise[0][0]         \n",
            "__________________________________________________________________________________________________\n",
            "block_10_depthwise_relu (ReLU)  (None, 14, 14, 384)  0           block_10_depthwise_BN[0][0]      \n",
            "__________________________________________________________________________________________________\n",
            "block_10_project (Conv2D)       (None, 14, 14, 96)   36864       block_10_depthwise_relu[0][0]    \n",
            "__________________________________________________________________________________________________\n",
            "block_10_project_BN (BatchNorma (None, 14, 14, 96)   384         block_10_project[0][0]           \n",
            "__________________________________________________________________________________________________\n",
            "block_11_expand (Conv2D)        (None, 14, 14, 576)  55296       block_10_project_BN[0][0]        \n",
            "__________________________________________________________________________________________________\n",
            "block_11_expand_BN (BatchNormal (None, 14, 14, 576)  2304        block_11_expand[0][0]            \n",
            "__________________________________________________________________________________________________\n",
            "block_11_expand_relu (ReLU)     (None, 14, 14, 576)  0           block_11_expand_BN[0][0]         \n",
            "__________________________________________________________________________________________________\n",
            "block_11_depthwise (DepthwiseCo (None, 14, 14, 576)  5184        block_11_expand_relu[0][0]       \n",
            "__________________________________________________________________________________________________\n",
            "block_11_depthwise_BN (BatchNor (None, 14, 14, 576)  2304        block_11_depthwise[0][0]         \n",
            "__________________________________________________________________________________________________\n",
            "block_11_depthwise_relu (ReLU)  (None, 14, 14, 576)  0           block_11_depthwise_BN[0][0]      \n",
            "__________________________________________________________________________________________________\n",
            "block_11_project (Conv2D)       (None, 14, 14, 96)   55296       block_11_depthwise_relu[0][0]    \n",
            "__________________________________________________________________________________________________\n",
            "block_11_project_BN (BatchNorma (None, 14, 14, 96)   384         block_11_project[0][0]           \n",
            "__________________________________________________________________________________________________\n",
            "block_11_add (Add)              (None, 14, 14, 96)   0           block_10_project_BN[0][0]        \n",
            "                                                                 block_11_project_BN[0][0]        \n",
            "__________________________________________________________________________________________________\n",
            "block_12_expand (Conv2D)        (None, 14, 14, 576)  55296       block_11_add[0][0]               \n",
            "__________________________________________________________________________________________________\n",
            "block_12_expand_BN (BatchNormal (None, 14, 14, 576)  2304        block_12_expand[0][0]            \n",
            "__________________________________________________________________________________________________\n",
            "block_12_expand_relu (ReLU)     (None, 14, 14, 576)  0           block_12_expand_BN[0][0]         \n",
            "__________________________________________________________________________________________________\n",
            "block_12_depthwise (DepthwiseCo (None, 14, 14, 576)  5184        block_12_expand_relu[0][0]       \n",
            "__________________________________________________________________________________________________\n",
            "block_12_depthwise_BN (BatchNor (None, 14, 14, 576)  2304        block_12_depthwise[0][0]         \n",
            "__________________________________________________________________________________________________\n",
            "block_12_depthwise_relu (ReLU)  (None, 14, 14, 576)  0           block_12_depthwise_BN[0][0]      \n",
            "__________________________________________________________________________________________________\n",
            "block_12_project (Conv2D)       (None, 14, 14, 96)   55296       block_12_depthwise_relu[0][0]    \n",
            "__________________________________________________________________________________________________\n",
            "block_12_project_BN (BatchNorma (None, 14, 14, 96)   384         block_12_project[0][0]           \n",
            "__________________________________________________________________________________________________\n",
            "block_12_add (Add)              (None, 14, 14, 96)   0           block_11_add[0][0]               \n",
            "                                                                 block_12_project_BN[0][0]        \n",
            "__________________________________________________________________________________________________\n",
            "block_13_expand (Conv2D)        (None, 14, 14, 576)  55296       block_12_add[0][0]               \n",
            "__________________________________________________________________________________________________\n",
            "block_13_expand_BN (BatchNormal (None, 14, 14, 576)  2304        block_13_expand[0][0]            \n",
            "__________________________________________________________________________________________________\n",
            "block_13_expand_relu (ReLU)     (None, 14, 14, 576)  0           block_13_expand_BN[0][0]         \n",
            "__________________________________________________________________________________________________\n",
            "block_13_pad (ZeroPadding2D)    (None, 15, 15, 576)  0           block_13_expand_relu[0][0]       \n",
            "__________________________________________________________________________________________________\n",
            "block_13_depthwise (DepthwiseCo (None, 7, 7, 576)    5184        block_13_pad[0][0]               \n",
            "__________________________________________________________________________________________________\n",
            "block_13_depthwise_BN (BatchNor (None, 7, 7, 576)    2304        block_13_depthwise[0][0]         \n",
            "__________________________________________________________________________________________________\n",
            "block_13_depthwise_relu (ReLU)  (None, 7, 7, 576)    0           block_13_depthwise_BN[0][0]      \n",
            "__________________________________________________________________________________________________\n",
            "block_13_project (Conv2D)       (None, 7, 7, 160)    92160       block_13_depthwise_relu[0][0]    \n",
            "__________________________________________________________________________________________________\n",
            "block_13_project_BN (BatchNorma (None, 7, 7, 160)    640         block_13_project[0][0]           \n",
            "__________________________________________________________________________________________________\n",
            "block_14_expand (Conv2D)        (None, 7, 7, 960)    153600      block_13_project_BN[0][0]        \n",
            "__________________________________________________________________________________________________\n",
            "block_14_expand_BN (BatchNormal (None, 7, 7, 960)    3840        block_14_expand[0][0]            \n",
            "__________________________________________________________________________________________________\n",
            "block_14_expand_relu (ReLU)     (None, 7, 7, 960)    0           block_14_expand_BN[0][0]         \n",
            "__________________________________________________________________________________________________\n",
            "block_14_depthwise (DepthwiseCo (None, 7, 7, 960)    8640        block_14_expand_relu[0][0]       \n",
            "__________________________________________________________________________________________________\n",
            "block_14_depthwise_BN (BatchNor (None, 7, 7, 960)    3840        block_14_depthwise[0][0]         \n",
            "__________________________________________________________________________________________________\n",
            "block_14_depthwise_relu (ReLU)  (None, 7, 7, 960)    0           block_14_depthwise_BN[0][0]      \n",
            "__________________________________________________________________________________________________\n",
            "block_14_project (Conv2D)       (None, 7, 7, 160)    153600      block_14_depthwise_relu[0][0]    \n",
            "__________________________________________________________________________________________________\n",
            "block_14_project_BN (BatchNorma (None, 7, 7, 160)    640         block_14_project[0][0]           \n",
            "__________________________________________________________________________________________________\n",
            "block_14_add (Add)              (None, 7, 7, 160)    0           block_13_project_BN[0][0]        \n",
            "                                                                 block_14_project_BN[0][0]        \n",
            "__________________________________________________________________________________________________\n",
            "block_15_expand (Conv2D)        (None, 7, 7, 960)    153600      block_14_add[0][0]               \n",
            "__________________________________________________________________________________________________\n",
            "block_15_expand_BN (BatchNormal (None, 7, 7, 960)    3840        block_15_expand[0][0]            \n",
            "__________________________________________________________________________________________________\n",
            "block_15_expand_relu (ReLU)     (None, 7, 7, 960)    0           block_15_expand_BN[0][0]         \n",
            "__________________________________________________________________________________________________\n",
            "block_15_depthwise (DepthwiseCo (None, 7, 7, 960)    8640        block_15_expand_relu[0][0]       \n",
            "__________________________________________________________________________________________________\n",
            "block_15_depthwise_BN (BatchNor (None, 7, 7, 960)    3840        block_15_depthwise[0][0]         \n",
            "__________________________________________________________________________________________________\n",
            "block_15_depthwise_relu (ReLU)  (None, 7, 7, 960)    0           block_15_depthwise_BN[0][0]      \n",
            "__________________________________________________________________________________________________\n",
            "block_15_project (Conv2D)       (None, 7, 7, 160)    153600      block_15_depthwise_relu[0][0]    \n",
            "__________________________________________________________________________________________________\n",
            "block_15_project_BN (BatchNorma (None, 7, 7, 160)    640         block_15_project[0][0]           \n",
            "__________________________________________________________________________________________________\n",
            "block_15_add (Add)              (None, 7, 7, 160)    0           block_14_add[0][0]               \n",
            "                                                                 block_15_project_BN[0][0]        \n",
            "__________________________________________________________________________________________________\n",
            "block_16_expand (Conv2D)        (None, 7, 7, 960)    153600      block_15_add[0][0]               \n",
            "__________________________________________________________________________________________________\n",
            "block_16_expand_BN (BatchNormal (None, 7, 7, 960)    3840        block_16_expand[0][0]            \n",
            "__________________________________________________________________________________________________\n",
            "block_16_expand_relu (ReLU)     (None, 7, 7, 960)    0           block_16_expand_BN[0][0]         \n",
            "__________________________________________________________________________________________________\n",
            "block_16_depthwise (DepthwiseCo (None, 7, 7, 960)    8640        block_16_expand_relu[0][0]       \n",
            "__________________________________________________________________________________________________\n",
            "block_16_depthwise_BN (BatchNor (None, 7, 7, 960)    3840        block_16_depthwise[0][0]         \n",
            "__________________________________________________________________________________________________\n",
            "block_16_depthwise_relu (ReLU)  (None, 7, 7, 960)    0           block_16_depthwise_BN[0][0]      \n",
            "__________________________________________________________________________________________________\n",
            "block_16_project (Conv2D)       (None, 7, 7, 320)    307200      block_16_depthwise_relu[0][0]    \n",
            "__________________________________________________________________________________________________\n",
            "block_16_project_BN (BatchNorma (None, 7, 7, 320)    1280        block_16_project[0][0]           \n",
            "__________________________________________________________________________________________________\n",
            "Conv_1 (Conv2D)                 (None, 7, 7, 1280)   409600      block_16_project_BN[0][0]        \n",
            "__________________________________________________________________________________________________\n",
            "Conv_1_bn (BatchNormalization)  (None, 7, 7, 1280)   5120        Conv_1[0][0]                     \n",
            "__________________________________________________________________________________________________\n",
            "out_relu (ReLU)                 (None, 7, 7, 1280)   0           Conv_1_bn[0][0]                  \n",
            "==================================================================================================\n",
            "Total params: 2,257,984\n",
            "Trainable params: 2,223,872\n",
            "Non-trainable params: 34,112\n",
            "__________________________________________________________________________________________________\n"
          ],
          "name": "stdout"
        }
      ]
    },
    {
      "cell_type": "markdown",
      "metadata": {
        "id": "ngVtdWor2z62"
      },
      "source": [
        "With the pretrained model we can build our actual model that adds an output layer to it."
      ]
    },
    {
      "cell_type": "code",
      "metadata": {
        "id": "HQNsTLZI4GOW"
      },
      "source": [
        "class MyTransferModel(k.Model):\n",
        "    def __init__(self, pretrained_model):\n",
        "        super(MyTransferModel, self).__init__()\n",
        "        self.pretrained_model = pretrained_model\n",
        "        self.glbl_avg_pool = k.layers.GlobalAveragePooling2D()\n",
        "        self.dropout = k.layers.Dropout(0.25)\n",
        "        self.dense = k.layers.Dense(102, activation=\"softmax\")\n",
        "\n",
        "    def call(self, inputs, training=False):\n",
        "        output = self.pretrained_model(inputs)\n",
        "        output = self.glbl_avg_pool(output)\n",
        "        output = self.dropout(output)\n",
        "        output = self.dense(output)\n",
        "        return output"
      ],
      "execution_count": null,
      "outputs": []
    },
    {
      "cell_type": "markdown",
      "metadata": {
        "id": "w5w6aV4S4nHu"
      },
      "source": [
        "Now we just need to instantiate our model for transfer learning and fine tune it. But instead of directly training all layers we will just train the last layer first. If you do not do this and directly train the complete model, the randomly initialization of the last layer can cause gradients with very big magnitude that will be propageted into the MobileNetV2 layers and cause them to \"forget\" what they have learned on ImageNet. This is undesireable since we want to transfer that knowledge over into our model in order to achieve better performance on the Caltech 101 data set."
      ]
    },
    {
      "cell_type": "code",
      "metadata": {
        "id": "ayjQnTqz47CO",
        "colab": {
          "base_uri": "https://localhost:8080/",
          "height": 734
        },
        "outputId": "aea3e439-93fb-46d5-bc3a-4a2872ef67bf"
      },
      "source": [
        "tf_batch_size = 32\n",
        "tf_epochs = 10\n",
        "tf_learning_rate = 0.001\n",
        "tf_mdl = MyTransferModel(base_model)\n",
        "tf_opt = k.optimizers.RMSprop(tf_learning_rate)\n",
        "base_model.trainable = False\n",
        "tf_mdl.compile(loss=\"sparse_categorical_crossentropy\", optimizer=tf_opt, metrics=[\"accuracy\"])\n",
        "tf_mdl.build((tf_batch_size, 224, 224, 3))\n",
        "tf_mdl.summary()\n",
        "\n",
        "train_gen = datagen.flow_from_directory(\"101_ObjectCategories\", target_size=(224, 224), class_mode=\"sparse\", batch_size=tf_batch_size, subset=\"training\")\n",
        "val_gen = datagen.flow_from_directory(\"101_ObjectCategories\", target_size=(224, 224), class_mode=\"sparse\", batch_size=tf_batch_size, subset=\"validation\")\n",
        "tf_history_0 = tf_mdl.fit_generator(train_gen, validation_data=val_gen, steps_per_epoch=int((1.0-val_split)*N_samples_Caltech101/tf_batch_size), epochs=tf_epochs)"
      ],
      "execution_count": null,
      "outputs": [
        {
          "output_type": "stream",
          "text": [
            "Model: \"my_transfer_model_1\"\n",
            "_________________________________________________________________\n",
            "Layer (type)                 Output Shape              Param #   \n",
            "=================================================================\n",
            "mobilenetv2_1.00_224 (Model) (None, 7, 7, 1280)        2257984   \n",
            "_________________________________________________________________\n",
            "global_average_pooling2d_1 ( multiple                  0         \n",
            "_________________________________________________________________\n",
            "dropout_1 (Dropout)          multiple                  0         \n",
            "_________________________________________________________________\n",
            "dense_1 (Dense)              multiple                  130662    \n",
            "=================================================================\n",
            "Total params: 2,388,646\n",
            "Trainable params: 130,662\n",
            "Non-trainable params: 2,257,984\n",
            "_________________________________________________________________\n",
            "Found 8278 images belonging to 102 classes.\n",
            "Found 866 images belonging to 102 classes.\n",
            "WARNING:tensorflow:From <ipython-input-8-65a0fb2f80b5>:13: Model.fit_generator (from tensorflow.python.keras.engine.training) is deprecated and will be removed in a future version.\n",
            "Instructions for updating:\n",
            "Please use Model.fit, which supports generators.\n",
            "Epoch 1/10\n",
            "257/257 [==============================] - 101s 393ms/step - loss: 1.3015 - accuracy: 0.7093 - val_loss: 0.4618 - val_accuracy: 0.8695\n",
            "Epoch 2/10\n",
            "257/257 [==============================] - 100s 387ms/step - loss: 0.3594 - accuracy: 0.8959 - val_loss: 0.3328 - val_accuracy: 0.9042\n",
            "Epoch 3/10\n",
            "257/257 [==============================] - 101s 391ms/step - loss: 0.2698 - accuracy: 0.9216 - val_loss: 0.3245 - val_accuracy: 0.8972\n",
            "Epoch 4/10\n",
            "257/257 [==============================] - 100s 388ms/step - loss: 0.2336 - accuracy: 0.9304 - val_loss: 0.3088 - val_accuracy: 0.9169\n",
            "Epoch 5/10\n",
            "257/257 [==============================] - 99s 387ms/step - loss: 0.1948 - accuracy: 0.9401 - val_loss: 0.3201 - val_accuracy: 0.9088\n",
            "Epoch 6/10\n",
            "257/257 [==============================] - 100s 388ms/step - loss: 0.1708 - accuracy: 0.9469 - val_loss: 0.3296 - val_accuracy: 0.9030\n",
            "Epoch 7/10\n",
            "257/257 [==============================] - 99s 387ms/step - loss: 0.1600 - accuracy: 0.9500 - val_loss: 0.3186 - val_accuracy: 0.9157\n",
            "Epoch 8/10\n",
            "257/257 [==============================] - 99s 387ms/step - loss: 0.1511 - accuracy: 0.9553 - val_loss: 0.3356 - val_accuracy: 0.9053\n",
            "Epoch 9/10\n",
            "257/257 [==============================] - 100s 389ms/step - loss: 0.1382 - accuracy: 0.9562 - val_loss: 0.3361 - val_accuracy: 0.9203\n",
            "Epoch 10/10\n",
            "257/257 [==============================] - 100s 387ms/step - loss: 0.1245 - accuracy: 0.9612 - val_loss: 0.3427 - val_accuracy: 0.9111\n"
          ],
          "name": "stdout"
        }
      ]
    },
    {
      "cell_type": "markdown",
      "metadata": {
        "id": "HbKiWk_T4zH1"
      },
      "source": [
        "Now that we have trained the outputlayer of our model on the Caltech 101 data set, we can make the last layers of the MobileNetV2 model trainable and continue to fine tune  it with a low learning rate. For this we need to recompile our model in order for the change of the MobileNetV2 parameters to trainable to have an effect."
      ]
    },
    {
      "cell_type": "code",
      "metadata": {
        "id": "yNL1HtEp5R2W",
        "colab": {
          "base_uri": "https://localhost:8080/",
          "height": 629
        },
        "outputId": "afdac7f8-0e62-48b0-e27a-f4eca783b7e5"
      },
      "source": [
        "tf_learning_rate = 0.00001\n",
        "tf_opt = k.optimizers.RMSprop(tf_learning_rate)\n",
        "base_model.trainable = True\n",
        "tf_mdl.compile(loss=\"sparse_categorical_crossentropy\", optimizer=tf_opt, metrics=[\"accuracy\"])\n",
        "tf_mdl.build((tf_batch_size, 224, 224, 3))\n",
        "tf_mdl.summary()\n",
        "\n",
        "tf_history_1 = tf_mdl.fit_generator(train_gen, validation_data=val_gen, steps_per_epoch=int((1.0-val_split)*N_samples_Caltech101/tf_batch_size), epochs=tf_epochs)"
      ],
      "execution_count": null,
      "outputs": [
        {
          "output_type": "stream",
          "text": [
            "Model: \"my_transfer_model_1\"\n",
            "_________________________________________________________________\n",
            "Layer (type)                 Output Shape              Param #   \n",
            "=================================================================\n",
            "mobilenetv2_1.00_224 (Model) (None, 7, 7, 1280)        2257984   \n",
            "_________________________________________________________________\n",
            "global_average_pooling2d_1 ( multiple                  0         \n",
            "_________________________________________________________________\n",
            "dropout_1 (Dropout)          multiple                  0         \n",
            "_________________________________________________________________\n",
            "dense_1 (Dense)              multiple                  130662    \n",
            "=================================================================\n",
            "Total params: 2,388,646\n",
            "Trainable params: 2,354,534\n",
            "Non-trainable params: 34,112\n",
            "_________________________________________________________________\n",
            "Epoch 1/10\n",
            "257/257 [==============================] - 118s 460ms/step - loss: 0.4192 - accuracy: 0.8837 - val_loss: 0.3301 - val_accuracy: 0.9145\n",
            "Epoch 2/10\n",
            "257/257 [==============================] - 117s 457ms/step - loss: 0.2061 - accuracy: 0.9371 - val_loss: 0.3619 - val_accuracy: 0.9042\n",
            "Epoch 3/10\n",
            "257/257 [==============================] - 118s 458ms/step - loss: 0.1677 - accuracy: 0.9462 - val_loss: 0.3255 - val_accuracy: 0.9192\n",
            "Epoch 4/10\n",
            "257/257 [==============================] - 118s 458ms/step - loss: 0.1357 - accuracy: 0.9578 - val_loss: 0.3239 - val_accuracy: 0.9226\n",
            "Epoch 5/10\n",
            "257/257 [==============================] - 118s 458ms/step - loss: 0.1355 - accuracy: 0.9570 - val_loss: 0.3151 - val_accuracy: 0.9180\n",
            "Epoch 6/10\n",
            "257/257 [==============================] - 117s 455ms/step - loss: 0.1200 - accuracy: 0.9615 - val_loss: 0.3084 - val_accuracy: 0.9238\n",
            "Epoch 7/10\n",
            "257/257 [==============================] - 118s 457ms/step - loss: 0.1005 - accuracy: 0.9653 - val_loss: 0.3092 - val_accuracy: 0.9273\n",
            "Epoch 8/10\n",
            "257/257 [==============================] - 117s 454ms/step - loss: 0.0880 - accuracy: 0.9721 - val_loss: 0.2908 - val_accuracy: 0.9215\n",
            "Epoch 9/10\n",
            "257/257 [==============================] - 117s 455ms/step - loss: 0.0885 - accuracy: 0.9726 - val_loss: 0.2629 - val_accuracy: 0.9249\n",
            "Epoch 10/10\n",
            "257/257 [==============================] - 117s 453ms/step - loss: 0.0778 - accuracy: 0.9746 - val_loss: 0.2805 - val_accuracy: 0.9215\n"
          ],
          "name": "stdout"
        }
      ]
    },
    {
      "cell_type": "markdown",
      "metadata": {
        "id": "GNo2frodRH_i"
      },
      "source": [
        "As you can see from the increasing gap between training and validation loss and accuracy, overfitting is becoming a bigger problem now. This is due to the much higher number of trainable parameters if we not only train the output layer on the rather small Caltech 101 data set. But still we can improve the performance of our model. We can visualize this if we plot the accuracy over the training process."
      ]
    },
    {
      "cell_type": "code",
      "metadata": {
        "id": "g2QHrVsvRv0C",
        "colab": {
          "base_uri": "https://localhost:8080/",
          "height": 279
        },
        "outputId": "1a46578d-2ef3-4f47-f265-d36e8fa2217b"
      },
      "source": [
        "plt.plot(tf_history_0.history[\"accuracy\"]+tf_history_1.history[\"accuracy\"])\n",
        "plt.plot(tf_history_0.history[\"val_accuracy\"]+tf_history_1.history[\"val_accuracy\"])\n",
        "plt.xticks(range(len(tf_history_0.history[\"accuracy\"]+tf_history_1.history[\"accuracy\"])))\n",
        "plt.axvline(9, color=\"green\")\n",
        "plt.xlabel(\"Epochs\")\n",
        "plt.ylabel(\"Accuracy\")\n",
        "plt.legend([\"Acc\", \"Val. Acc\", \"Start fine tuning\"])\n",
        "plt.show()"
      ],
      "execution_count": null,
      "outputs": [
        {
          "output_type": "display_data",
          "data": {
            "image/png": "[encoded data removed]",
            "text/plain": [
              "<Figure size 432x288 with 1 Axes>"
            ]
          },
          "metadata": {
            "tags": [],
            "needs_background": "light"
          }
        }
      ]
    },
    {
      "cell_type": "markdown",
      "metadata": {
        "id": "Z2Jhnwh5Y4IB"
      },
      "source": [
        "Overall the resulting performance of the model is quite close to published results on the Caltach 101, e.g. this [paper](https://arxiv.org/abs/1406.4729v1), while the definintion and training of the model only required very little code.\n",
        "\n",
        "In order to evaluate if transfer learning actually makes a difference, we can simply train the MobileNetV2 on the Caltech 101 data set. As we already discussed, training such a high capacity model on such a small data set leads to heavy overfitting."
      ]
    },
    {
      "cell_type": "code",
      "metadata": {
        "id": "Ugaum5NNdxb1",
        "colab": {
          "base_uri": "https://localhost:8080/",
          "height": 629
        },
        "outputId": "5f7d5555-d4f8-4411-c535-b0c0ace86b63"
      },
      "source": [
        "tf_batch_size = 32\n",
        "tf_epochs = 10\n",
        "tf_learning_rate = 0.001\n",
        "base_model = k.applications.MobileNetV2(input_shape=(224, 224, 3), include_top=False, weights=None)\n",
        "tf_mdl = MyTransferModel(base_model)\n",
        "tf_opt = k.optimizers.RMSprop(tf_learning_rate)\n",
        "tf_mdl.compile(loss=\"sparse_categorical_crossentropy\", optimizer=tf_opt, metrics=[\"accuracy\"])\n",
        "tf_mdl.build((tf_batch_size, 224, 224, 3))\n",
        "tf_mdl.summary()\n",
        "\n",
        "tf_history_2 = tf_mdl.fit_generator(train_gen, validation_data=val_gen, steps_per_epoch=int((1.0-val_split)*N_samples_Caltech101/tf_batch_size), epochs=tf_epochs)"
      ],
      "execution_count": null,
      "outputs": [
        {
          "output_type": "stream",
          "text": [
            "Model: \"my_transfer_model_2\"\n",
            "_________________________________________________________________\n",
            "Layer (type)                 Output Shape              Param #   \n",
            "=================================================================\n",
            "mobilenetv2_1.00_224 (Model) (None, 7, 7, 1280)        2257984   \n",
            "_________________________________________________________________\n",
            "global_average_pooling2d_2 ( multiple                  0         \n",
            "_________________________________________________________________\n",
            "dropout_2 (Dropout)          multiple                  0         \n",
            "_________________________________________________________________\n",
            "dense_2 (Dense)              multiple                  130662    \n",
            "=================================================================\n",
            "Total params: 2,388,646\n",
            "Trainable params: 2,354,534\n",
            "Non-trainable params: 34,112\n",
            "_________________________________________________________________\n",
            "Epoch 1/10\n",
            "257/257 [==============================] - 117s 456ms/step - loss: 3.7366 - accuracy: 0.2369 - val_loss: 4.5518 - val_accuracy: 0.0497\n",
            "Epoch 2/10\n",
            "257/257 [==============================] - 117s 454ms/step - loss: 3.0604 - accuracy: 0.3335 - val_loss: 4.9948 - val_accuracy: 0.0531\n",
            "Epoch 3/10\n",
            "257/257 [==============================] - 117s 454ms/step - loss: 2.7196 - accuracy: 0.3839 - val_loss: 5.6450 - val_accuracy: 0.0531\n",
            "Epoch 4/10\n",
            "257/257 [==============================] - 117s 455ms/step - loss: 2.4274 - accuracy: 0.4333 - val_loss: 6.6161 - val_accuracy: 0.0531\n",
            "Epoch 5/10\n",
            "257/257 [==============================] - 116s 453ms/step - loss: 2.1932 - accuracy: 0.4665 - val_loss: 7.2861 - val_accuracy: 0.0531\n",
            "Epoch 6/10\n",
            "257/257 [==============================] - 117s 454ms/step - loss: 2.0229 - accuracy: 0.5028 - val_loss: 8.1393 - val_accuracy: 0.0531\n",
            "Epoch 7/10\n",
            "257/257 [==============================] - 117s 454ms/step - loss: 1.8727 - accuracy: 0.5310 - val_loss: 8.8645 - val_accuracy: 0.0531\n",
            "Epoch 8/10\n",
            "257/257 [==============================] - 117s 454ms/step - loss: 1.7578 - accuracy: 0.5566 - val_loss: 10.0592 - val_accuracy: 0.0531\n",
            "Epoch 9/10\n",
            "257/257 [==============================] - 117s 455ms/step - loss: 1.6281 - accuracy: 0.5816 - val_loss: 10.6704 - val_accuracy: 0.0531\n",
            "Epoch 10/10\n",
            "257/257 [==============================] - 116s 453ms/step - loss: 1.5177 - accuracy: 0.6116 - val_loss: 11.2356 - val_accuracy: 0.0531\n"
          ],
          "name": "stdout"
        }
      ]
    },
    {
      "cell_type": "markdown",
      "metadata": {
        "id": "l7gvjWFvtlxr"
      },
      "source": [
        "As you can see, training MobileNetV2 from scratch does not only suffer from severe overfitting but is also rather slow when compared with fine tuning. So overall it is recommended to use pretrained models and transfer learning if you want to train a high capacity neural network on a small data set, as it is often the case in practical applications. By doing this you can benefit from not only the architecture search of many experts but also save time and computational resources since a part of your model has already be pretrained by someone else. But you should always keep in mind that transfer learning is only a suitable method if there is a realistic chance of a positive transfer, i.e. the data set and task the model was pretrained on has to have something in common with your data set and task. Otherwise transfer learning can not only slow down the convergence speed but also hurt the final performance of your model."
      ]
    },
    {
      "cell_type": "markdown",
      "metadata": {
        "id": "3zzJJ51h2GP8"
      },
      "source": [
        "## Catastrophic Forgetting\n",
        "Despite many advances in better architectures and training algorithms for training, neural networks still suffer from a long known phenomenon called \"catastrophic forgeeting\". In order to understand what this phenomenon is we can compare human learning with the way neural networks learn. Humans can quickly learn from few examples and most importantly, they can learn to solve tasks in a sequential way. This means one can learn a language, e.g. english, and after a certain period of time learn a second language, e.g. chinese, without having to repeatedly refresh everthing that was learned on the first language. Neural networks are currently not capable of learning on a sequence of different tasks. In order to demonstrate this, we will train a neural network first on MNIST and then on the FashionMNIST data set. We want to be able to uniquely identify any class from both data sets. Since both data sets contain $10$ classes and use the labels $\\lbrace0,\\ldots,9\\rbrace$ for them, we need to choose different labels for the FashionMNIST data set. We do this by loading the data set and shifting the labels by $10$ so that we get labels $\\lbrace10,\\ldots,19\\rbrace$."
      ]
    },
    {
      "cell_type": "code",
      "metadata": {
        "id": "x0e8W8Wc3CS_",
        "colab": {
          "base_uri": "https://localhost:8080/",
          "height": 164
        },
        "outputId": "7935fece-bd6c-40a7-bcac-820941d85827"
      },
      "source": [
        "(x_train_fmnist, y_train_fmnist), (x_test_fmnist, y_test_fmnist) = tf.keras.datasets.fashion_mnist.load_data()\n",
        "\n",
        "x_train_fmnist = np.expand_dims(x_train_fmnist, axis=-1).astype(np.float32)\n",
        "y_train_fmnist = y_train_fmnist + 10\n",
        "x_test_fmnist = np.expand_dims(x_test_fmnist, axis=-1).astype(np.float32)\n",
        "y_test_fmnist = y_test_fmnist + 10"
      ],
      "execution_count": null,
      "outputs": [
        {
          "output_type": "stream",
          "text": [
            "Downloading data from https://storage.googleapis.com/tensorflow/tf-keras-datasets/train-labels-idx1-ubyte.gz\n",
            "32768/29515 [=================================] - 0s 0us/step\n",
            "Downloading data from https://storage.googleapis.com/tensorflow/tf-keras-datasets/train-images-idx3-ubyte.gz\n",
            "26427392/26421880 [==============================] - 0s 0us/step\n",
            "Downloading data from https://storage.googleapis.com/tensorflow/tf-keras-datasets/t10k-labels-idx1-ubyte.gz\n",
            "8192/5148 [===============================================] - 0s 0us/step\n",
            "Downloading data from https://storage.googleapis.com/tensorflow/tf-keras-datasets/t10k-images-idx3-ubyte.gz\n",
            "4423680/4422102 [==============================] - 0s 0us/step\n"
          ],
          "name": "stdout"
        }
      ]
    },
    {
      "cell_type": "markdown",
      "metadata": {
        "id": "Fz6e_B1vFj96"
      },
      "source": [
        "We also plot some examples of this data set and varify if the labels were shifted correctly."
      ]
    },
    {
      "cell_type": "code",
      "metadata": {
        "id": "bZkh_WV-FqD_",
        "colab": {
          "base_uri": "https://localhost:8080/",
          "height": 324
        },
        "outputId": "7a7c1b98-114f-4593-b55a-fce386328d7e"
      },
      "source": [
        "plt_img = np.zeros((280, 280))\n",
        "for i in range(10):\n",
        "  for j in range(10):\n",
        "    plt_img[i*28:(i+1)*28, j*28:(j+1)*28] = np.squeeze(x_train_fmnist[i*10+j])\n",
        "plt.imshow(plt_img, cmap=\"gray\")\n",
        "plt.axis(\"off\")\n",
        "plt.show()\n",
        "\n",
        "print(\"Labels\")\n",
        "print(\"MNIST: \"+str(np.unique(y_test_mnist)))\n",
        "print(\"FashionMNIST: \"+str(np.unique(y_test_fmnist)))"
      ],
      "execution_count": null,
      "outputs": [
        {
          "output_type": "display_data",
          "data": {
            "image/png": "[encoded data removed]",
            "text/plain": [
              "<Figure size 432x288 with 1 Axes>"
            ]
          },
          "metadata": {
            "tags": []
          }
        },
        {
          "output_type": "stream",
          "text": [
            "Labels\n",
            "MNIST: [0 1 2 3 4 5 6 7 8 9]\n",
            "FashionMNIST: [10 11 12 13 14 15 16 17 18 19]\n"
          ],
          "name": "stdout"
        }
      ]
    },
    {
      "cell_type": "markdown",
      "metadata": {
        "id": "W6SBIqCcOdWe"
      },
      "source": [
        "Now that we the data prepared we need to define a new model that can classify images into $20$ different classes. This is necessary since the models we used up to this point only have $10$ neurons in their output layers and therefore are only capable of classifying into $10$ different categories."
      ]
    },
    {
      "cell_type": "code",
      "metadata": {
        "id": "8WC9fu-hOzVH"
      },
      "source": [
        "class MyExtendedModel(k.Model):\n",
        "    def __init__(self):\n",
        "        super(MyExtendedModel, self).__init__()\n",
        "        self.conv0 = k.layers.Conv2D(8, 3, 2, activation=\"relu\")\n",
        "        self.conv1 = k.layers.Conv2D(16, 3, 2, activation=\"relu\")\n",
        "        self.flatten = k.layers.Flatten()\n",
        "        self.dropout = k.layers.Dropout(0.25)\n",
        "        self.dense0 = k.layers.Dense(128, activation=\"relu\")\n",
        "        self.dense1 = k.layers.Dense(64, activation=\"relu\")\n",
        "        self.dense2 = k.layers.Dense(20, activation=\"softmax\")\n",
        "\n",
        "    def call(self, inputs, training=False):\n",
        "        output = self.conv0(inputs)\n",
        "        output = self.conv1(output)\n",
        "        output = self.flatten(output)\n",
        "        output = self.dropout(output, training)\n",
        "        output = self.dense0(output)\n",
        "        output = self.dense1(output)\n",
        "        output = self.dense2(output)\n",
        "        return output"
      ],
      "execution_count": null,
      "outputs": []
    },
    {
      "cell_type": "markdown",
      "metadata": {
        "id": "a9xyVgZrQNjg"
      },
      "source": [
        "With this model we are almost redy to start training on a sequence of tasks, i.e. we will first train on the MNIST data set in order to learn the classes $0$ up to $9$ and after that train on the FshionMNIST data set in order to learn the remaining classes from $10$ to $19$. During this process we want to evaluate the model separately on MNIST and FashionMNIST validation data. Since this is not a standard procedure, we need to implement a Callback class. Callbacks in Keras are used to implement actions that are executed at different points during the training process, e.g. at the beginning of the training, after a batch is processed or at the end of each epoch. See the [documentation](https://www.tensorflow.org/versions/r2.0/api_docs/python/tf/keras/callbacks) for an overview of all provided callbacks and the [guide](https://www.tensorflow.org/beta/guide/keras/custom_callback#an_overview_of_callback_methods) on writing custom callbacks. While there are predefined callbacks, e.g. for logging metrics into a tensorboard log file, there is unfortunately no callback that we could use to evaluate our model simultaneously on two different validation data sets. The only option we have is to implement our own callback."
      ]
    },
    {
      "cell_type": "code",
      "metadata": {
        "id": "7bOiLxIRSCz5"
      },
      "source": [
        "class MyCallback(tf.keras.callbacks.Callback):\n",
        "  # Get the two different data sets and create lists for storing results\n",
        "  def __init__(self, x_0, y_0, x_1, y_1, batch_size):\n",
        "    super(MyCallback, self).__init__()\n",
        "    self.x_0 = x_0\n",
        "    self.y_0 = y_0\n",
        "    self.x_1 = x_1\n",
        "    self.y_1 = y_1\n",
        "    self.loss_0 = []\n",
        "    self.acc_0 = []\n",
        "    self.loss_1 = []\n",
        "    self.acc_1 = []\n",
        "    self.batch_size = batch_size\n",
        "    \n",
        "  def on_epoch_end(self, epoch, logs=None):\n",
        "    # Evaluate the model on both data sets and store results\n",
        "    print(\"\\nStarting callback...\")\n",
        "    print(\"+----------------------+\")\n",
        "    print(\"| Data set 0           |\")\n",
        "    print(\"+----------------------+\")\n",
        "    metrics_0 = self.model.evaluate(self.x_0, self.y_0, self.batch_size)\n",
        "    self.loss_0.append(metrics_0[0])\n",
        "    self.acc_0.append(metrics_0[1])\n",
        "    print(\"+----------------------+\")\n",
        "    print(\"| Data set 1           |\")\n",
        "    print(\"+----------------------+\")\n",
        "    metrics_1 = self.model.evaluate(self.x_1, self.y_1, self.batch_size)\n",
        "    self.loss_1.append(metrics_1[0])\n",
        "    self.acc_1.append(metrics_1[1])\n",
        "    print(\"Callback completed...\")"
      ],
      "execution_count": null,
      "outputs": []
    },
    {
      "cell_type": "markdown",
      "metadata": {
        "id": "h3ZUw3WqWmSL"
      },
      "source": [
        "This callback will accept two data sets on its initialization that can be used during training to evaluate on. For this we override the on_epoch_end function to evaluate on both data sets, print the results and store them for later use. We now train our neural network first on MNIST in order to learn the classes $\\lbrace0,\\ldots,9\\rbrace$ and then on FashionMNIST in order to leran the classes $\\lbrace10,\\ldots,19\\rbrace$  while simultaneously evaluating the model on both, the MNISt and FashionMNIST test sets. If our neural network would be capable of learning continually, we would expect to see the loss on MNIST decrease as we train on it and remain low as we continue with the training on FashionMNIST. Similarly we would expect the accuracy to rise on MNIST as we train on it and remain stable even if we continue to train on FashionMNIST."
      ]
    },
    {
      "cell_type": "code",
      "metadata": {
        "id": "n3tZfi6jVSec",
        "colab": {
          "base_uri": "https://localhost:8080/",
          "height": 1000
        },
        "outputId": "a37bfecc-f939-4100-af5b-cddb0be8f13d"
      },
      "source": [
        "extended_mdl = MyExtendedModel()\n",
        "extended_opt = tf.keras.optimizers.RMSprop(learning_rate)\n",
        "extended_mdl.compile(loss=\"sparse_categorical_crossentropy\", optimizer=extended_opt, metrics=[\"accuracy\"])\n",
        "\n",
        "my_cb = MyCallback(x_test_mnist, y_test_mnist, x_test_fmnist, y_test_fmnist, batch_size)\n",
        "\n",
        "extended_mdl.fit(x_train_mnist, y_train_mnist, batch_size, epochs, callbacks=[my_cb])\n",
        "extended_mdl.fit(x_train_fmnist, y_train_fmnist, batch_size, epochs, callbacks=[my_cb])"
      ],
      "execution_count": null,
      "outputs": [
        {
          "output_type": "stream",
          "text": [
            "Train on 60000 samples\n",
            "Epoch 1/20\n",
            "59136/60000 [============================>.] - ETA: 0s - loss: 1.2592 - accuracy: 0.8209\n",
            "Starting callback...\n",
            "+----------------------+\n",
            "| Data set 0           |\n",
            "+----------------------+\n",
            "10000/10000 [==============================] - 0s 31us/sample - loss: 0.1588 - accuracy: 0.9523\n",
            "+----------------------+\n",
            "| Data set 1           |\n",
            "+----------------------+\n",
            "10000/10000 [==============================] - 0s 20us/sample - loss: 13.2376 - accuracy: 0.0000e+00\n",
            "Callback completed...\n",
            "60000/60000 [==============================] - 4s 70us/sample - loss: 1.2436 - accuracy: 0.8226\n",
            "Epoch 2/20\n",
            "59136/60000 [============================>.] - ETA: 0s - loss: 0.1614 - accuracy: 0.9509\n",
            "Starting callback...\n",
            "+----------------------+\n",
            "| Data set 0           |\n",
            "+----------------------+\n",
            "10000/10000 [==============================] - 0s 21us/sample - loss: 0.0893 - accuracy: 0.9743\n",
            "+----------------------+\n",
            "| Data set 1           |\n",
            "+----------------------+\n",
            "10000/10000 [==============================] - 0s 21us/sample - loss: 14.1666 - accuracy: 0.0000e+00\n",
            "Callback completed...\n",
            "60000/60000 [==============================] - 4s 62us/sample - loss: 0.1609 - accuracy: 0.9509\n",
            "Epoch 3/20\n",
            "59008/60000 [============================>.] - ETA: 0s - loss: 0.1121 - accuracy: 0.9653\n",
            "Starting callback...\n",
            "+----------------------+\n",
            "| Data set 0           |\n",
            "+----------------------+\n",
            "10000/10000 [==============================] - 0s 21us/sample - loss: 0.0760 - accuracy: 0.9770\n",
            "+----------------------+\n",
            "| Data set 1           |\n",
            "+----------------------+\n",
            "10000/10000 [==============================] - 0s 21us/sample - loss: 13.9820 - accuracy: 0.0000e+00\n",
            "Callback completed...\n",
            "60000/60000 [==============================] - 4s 62us/sample - loss: 0.1118 - accuracy: 0.9653\n",
            "Epoch 4/20\n",
            "59776/60000 [============================>.] - ETA: 0s - loss: 0.0880 - accuracy: 0.9728\n",
            "Starting callback...\n",
            "+----------------------+\n",
            "| Data set 0           |\n",
            "+----------------------+\n",
            "10000/10000 [==============================] - 0s 20us/sample - loss: 0.0578 - accuracy: 0.9806\n",
            "+----------------------+\n",
            "| Data set 1           |\n",
            "+----------------------+\n",
            "10000/10000 [==============================] - 0s 22us/sample - loss: 14.2305 - accuracy: 0.0000e+00\n",
            "Callback completed...\n",
            "60000/60000 [==============================] - 4s 61us/sample - loss: 0.0880 - accuracy: 0.9728\n",
            "Epoch 5/20\n",
            "59008/60000 [============================>.] - ETA: 0s - loss: 0.0780 - accuracy: 0.9757\n",
            "Starting callback...\n",
            "+----------------------+\n",
            "| Data set 0           |\n",
            "+----------------------+\n",
            "10000/10000 [==============================] - 0s 21us/sample - loss: 0.0587 - accuracy: 0.9805\n",
            "+----------------------+\n",
            "| Data set 1           |\n",
            "+----------------------+\n",
            "10000/10000 [==============================] - 0s 21us/sample - loss: 14.4765 - accuracy: 0.0000e+00\n",
            "Callback completed...\n",
            "60000/60000 [==============================] - 4s 60us/sample - loss: 0.0781 - accuracy: 0.9758\n",
            "Epoch 6/20\n",
            "59776/60000 [============================>.] - ETA: 0s - loss: 0.0670 - accuracy: 0.9792\n",
            "Starting callback...\n",
            "+----------------------+\n",
            "| Data set 0           |\n",
            "+----------------------+\n",
            "10000/10000 [==============================] - 0s 21us/sample - loss: 0.0530 - accuracy: 0.9827\n",
            "+----------------------+\n",
            "| Data set 1           |\n",
            "+----------------------+\n",
            "10000/10000 [==============================] - 0s 23us/sample - loss: 13.6815 - accuracy: 0.0000e+00\n",
            "Callback completed...\n",
            "60000/60000 [==============================] - 4s 62us/sample - loss: 0.0674 - accuracy: 0.9790\n",
            "Epoch 7/20\n",
            "59392/60000 [============================>.] - ETA: 0s - loss: 0.0622 - accuracy: 0.9804\n",
            "Starting callback...\n",
            "+----------------------+\n",
            "| Data set 0           |\n",
            "+----------------------+\n",
            "10000/10000 [==============================] - 0s 20us/sample - loss: 0.0546 - accuracy: 0.9821\n",
            "+----------------------+\n",
            "| Data set 1           |\n",
            "+----------------------+\n",
            "10000/10000 [==============================] - 0s 22us/sample - loss: 14.3339 - accuracy: 0.0000e+00\n",
            "Callback completed...\n",
            "60000/60000 [==============================] - 4s 61us/sample - loss: 0.0622 - accuracy: 0.9804\n",
            "Epoch 8/20\n",
            "59776/60000 [============================>.] - ETA: 0s - loss: 0.0566 - accuracy: 0.9821\n",
            "Starting callback...\n",
            "+----------------------+\n",
            "| Data set 0           |\n",
            "+----------------------+\n",
            "10000/10000 [==============================] - 0s 23us/sample - loss: 0.0558 - accuracy: 0.9840\n",
            "+----------------------+\n",
            "| Data set 1           |\n",
            "+----------------------+\n",
            "10000/10000 [==============================] - 0s 21us/sample - loss: 14.2856 - accuracy: 0.0000e+00\n",
            "Callback completed...\n",
            "60000/60000 [==============================] - 4s 62us/sample - loss: 0.0565 - accuracy: 0.9821\n",
            "Epoch 9/20\n",
            "59264/60000 [============================>.] - ETA: 0s - loss: 0.0519 - accuracy: 0.9842\n",
            "Starting callback...\n",
            "+----------------------+\n",
            "| Data set 0           |\n",
            "+----------------------+\n",
            "10000/10000 [==============================] - 0s 21us/sample - loss: 0.0513 - accuracy: 0.9850\n",
            "+----------------------+\n",
            "| Data set 1           |\n",
            "+----------------------+\n",
            "10000/10000 [==============================] - 0s 21us/sample - loss: 14.3548 - accuracy: 0.0000e+00\n",
            "Callback completed...\n",
            "60000/60000 [==============================] - 4s 62us/sample - loss: 0.0519 - accuracy: 0.9842\n",
            "Epoch 10/20\n",
            "59904/60000 [============================>.] - ETA: 0s - loss: 0.0495 - accuracy: 0.9846\n",
            "Starting callback...\n",
            "+----------------------+\n",
            "| Data set 0           |\n",
            "+----------------------+\n",
            "10000/10000 [==============================] - 0s 22us/sample - loss: 0.0544 - accuracy: 0.9846\n",
            "+----------------------+\n",
            "| Data set 1           |\n",
            "+----------------------+\n",
            "10000/10000 [==============================] - 0s 21us/sample - loss: 14.4898 - accuracy: 0.0000e+00\n",
            "Callback completed...\n",
            "60000/60000 [==============================] - 4s 62us/sample - loss: 0.0494 - accuracy: 0.9846\n",
            "Epoch 11/20\n",
            "59264/60000 [============================>.] - ETA: 0s - loss: 0.0475 - accuracy: 0.9849\n",
            "Starting callback...\n",
            "+----------------------+\n",
            "| Data set 0           |\n",
            "+----------------------+\n",
            "10000/10000 [==============================] - 0s 22us/sample - loss: 0.0577 - accuracy: 0.9853\n",
            "+----------------------+\n",
            "| Data set 1           |\n",
            "+----------------------+\n",
            "10000/10000 [==============================] - 0s 22us/sample - loss: 15.2366 - accuracy: 0.0000e+00\n",
            "Callback completed...\n",
            "60000/60000 [==============================] - 4s 61us/sample - loss: 0.0473 - accuracy: 0.9849\n",
            "Epoch 12/20\n",
            "59008/60000 [============================>.] - ETA: 0s - loss: 0.0438 - accuracy: 0.9859\n",
            "Starting callback...\n",
            "+----------------------+\n",
            "| Data set 0           |\n",
            "+----------------------+\n",
            "10000/10000 [==============================] - 0s 22us/sample - loss: 0.0526 - accuracy: 0.9856\n",
            "+----------------------+\n",
            "| Data set 1           |\n",
            "+----------------------+\n",
            "10000/10000 [==============================] - 0s 22us/sample - loss: 15.1839 - accuracy: 0.0000e+00\n",
            "Callback completed...\n",
            "60000/60000 [==============================] - 4s 62us/sample - loss: 0.0438 - accuracy: 0.9859\n",
            "Epoch 13/20\n",
            "59008/60000 [============================>.] - ETA: 0s - loss: 0.0432 - accuracy: 0.9866\n",
            "Starting callback...\n",
            "+----------------------+\n",
            "| Data set 0           |\n",
            "+----------------------+\n",
            "10000/10000 [==============================] - 0s 22us/sample - loss: 0.0520 - accuracy: 0.9863\n",
            "+----------------------+\n",
            "| Data set 1           |\n",
            "+----------------------+\n",
            "10000/10000 [==============================] - 0s 21us/sample - loss: 14.9986 - accuracy: 0.0000e+00\n",
            "Callback completed...\n",
            "60000/60000 [==============================] - 4s 62us/sample - loss: 0.0432 - accuracy: 0.9866\n",
            "Epoch 14/20\n",
            "59904/60000 [============================>.] - ETA: 0s - loss: 0.0416 - accuracy: 0.9872\n",
            "Starting callback...\n",
            "+----------------------+\n",
            "| Data set 0           |\n",
            "+----------------------+\n",
            "10000/10000 [==============================] - 0s 21us/sample - loss: 0.0539 - accuracy: 0.9859\n",
            "+----------------------+\n",
            "| Data set 1           |\n",
            "+----------------------+\n",
            "10000/10000 [==============================] - 0s 21us/sample - loss: 14.5767 - accuracy: 0.0000e+00\n",
            "Callback completed...\n",
            "60000/60000 [==============================] - 4s 62us/sample - loss: 0.0415 - accuracy: 0.9872\n",
            "Epoch 15/20\n",
            "59520/60000 [============================>.] - ETA: 0s - loss: 0.0392 - accuracy: 0.9875\n",
            "Starting callback...\n",
            "+----------------------+\n",
            "| Data set 0           |\n",
            "+----------------------+\n",
            "10000/10000 [==============================] - 0s 21us/sample - loss: 0.0532 - accuracy: 0.9857\n",
            "+----------------------+\n",
            "| Data set 1           |\n",
            "+----------------------+\n",
            "10000/10000 [==============================] - 0s 21us/sample - loss: 14.6235 - accuracy: 0.0000e+00\n",
            "Callback completed...\n",
            "60000/60000 [==============================] - 4s 61us/sample - loss: 0.0394 - accuracy: 0.9875\n",
            "Epoch 16/20\n",
            "59136/60000 [============================>.] - ETA: 0s - loss: 0.0386 - accuracy: 0.9878\n",
            "Starting callback...\n",
            "+----------------------+\n",
            "| Data set 0           |\n",
            "+----------------------+\n",
            "10000/10000 [==============================] - 0s 22us/sample - loss: 0.0481 - accuracy: 0.9875\n",
            "+----------------------+\n",
            "| Data set 1           |\n",
            "+----------------------+\n",
            "10000/10000 [==============================] - 0s 23us/sample - loss: 15.3797 - accuracy: 0.0000e+00\n",
            "Callback completed...\n",
            "60000/60000 [==============================] - 4s 62us/sample - loss: 0.0388 - accuracy: 0.9878\n",
            "Epoch 17/20\n",
            "59392/60000 [============================>.] - ETA: 0s - loss: 0.0385 - accuracy: 0.9882\n",
            "Starting callback...\n",
            "+----------------------+\n",
            "| Data set 0           |\n",
            "+----------------------+\n",
            "10000/10000 [==============================] - 0s 22us/sample - loss: 0.0605 - accuracy: 0.9831\n",
            "+----------------------+\n",
            "| Data set 1           |\n",
            "+----------------------+\n",
            "10000/10000 [==============================] - 0s 22us/sample - loss: 14.8502 - accuracy: 0.0000e+00\n",
            "Callback completed...\n",
            "60000/60000 [==============================] - 4s 61us/sample - loss: 0.0383 - accuracy: 0.9882\n",
            "Epoch 18/20\n",
            "59648/60000 [============================>.] - ETA: 0s - loss: 0.0366 - accuracy: 0.9891\n",
            "Starting callback...\n",
            "+----------------------+\n",
            "| Data set 0           |\n",
            "+----------------------+\n",
            "10000/10000 [==============================] - 0s 23us/sample - loss: 0.0547 - accuracy: 0.9865\n",
            "+----------------------+\n",
            "| Data set 1           |\n",
            "+----------------------+\n",
            "10000/10000 [==============================] - 0s 21us/sample - loss: 15.1461 - accuracy: 0.0000e+00\n",
            "Callback completed...\n",
            "60000/60000 [==============================] - 4s 61us/sample - loss: 0.0367 - accuracy: 0.9891\n",
            "Epoch 19/20\n",
            "59392/60000 [============================>.] - ETA: 0s - loss: 0.0369 - accuracy: 0.9889\n",
            "Starting callback...\n",
            "+----------------------+\n",
            "| Data set 0           |\n",
            "+----------------------+\n",
            "10000/10000 [==============================] - 0s 22us/sample - loss: 0.0550 - accuracy: 0.9859\n",
            "+----------------------+\n",
            "| Data set 1           |\n",
            "+----------------------+\n",
            "10000/10000 [==============================] - 0s 22us/sample - loss: 14.8031 - accuracy: 0.0000e+00\n",
            "Callback completed...\n",
            "60000/60000 [==============================] - 4s 61us/sample - loss: 0.0369 - accuracy: 0.9889\n",
            "Epoch 20/20\n",
            "59392/60000 [============================>.] - ETA: 0s - loss: 0.0332 - accuracy: 0.9893\n",
            "Starting callback...\n",
            "+----------------------+\n",
            "| Data set 0           |\n",
            "+----------------------+\n",
            "10000/10000 [==============================] - 0s 23us/sample - loss: 0.0547 - accuracy: 0.9855\n",
            "+----------------------+\n",
            "| Data set 1           |\n",
            "+----------------------+\n",
            "10000/10000 [==============================] - 0s 21us/sample - loss: 15.1353 - accuracy: 0.0000e+00\n",
            "Callback completed...\n",
            "60000/60000 [==============================] - 4s 61us/sample - loss: 0.0333 - accuracy: 0.9893\n",
            "Train on 60000 samples\n",
            "Epoch 1/20\n",
            "59776/60000 [============================>.] - ETA: 0s - loss: 0.7860 - accuracy: 0.7443\n",
            "Starting callback...\n",
            "+----------------------+\n",
            "| Data set 0           |\n",
            "+----------------------+\n",
            "10000/10000 [==============================] - 0s 22us/sample - loss: 14.2934 - accuracy: 0.0146\n",
            "+----------------------+\n",
            "| Data set 1           |\n",
            "+----------------------+\n",
            "10000/10000 [==============================] - 0s 21us/sample - loss: 0.4431 - accuracy: 0.8437\n",
            "Callback completed...\n",
            "60000/60000 [==============================] - 4s 61us/sample - loss: 0.7847 - accuracy: 0.7446\n",
            "Epoch 2/20\n",
            "59904/60000 [============================>.] - ETA: 0s - loss: 0.4318 - accuracy: 0.8428\n",
            "Starting callback...\n",
            "+----------------------+\n",
            "| Data set 0           |\n",
            "+----------------------+\n",
            "10000/10000 [==============================] - 0s 22us/sample - loss: 15.6912 - accuracy: 0.0018\n",
            "+----------------------+\n",
            "| Data set 1           |\n",
            "+----------------------+\n",
            "10000/10000 [==============================] - 0s 21us/sample - loss: 0.3957 - accuracy: 0.8603\n",
            "Callback completed...\n",
            "60000/60000 [==============================] - 4s 61us/sample - loss: 0.4320 - accuracy: 0.8429\n",
            "Epoch 3/20\n",
            "59008/60000 [============================>.] - ETA: 0s - loss: 0.3824 - accuracy: 0.8604\n",
            "Starting callback...\n",
            "+----------------------+\n",
            "| Data set 0           |\n",
            "+----------------------+\n",
            "10000/10000 [==============================] - 0s 22us/sample - loss: 15.5370 - accuracy: 0.0054\n",
            "+----------------------+\n",
            "| Data set 1           |\n",
            "+----------------------+\n",
            "10000/10000 [==============================] - 0s 22us/sample - loss: 0.3611 - accuracy: 0.8709\n",
            "Callback completed...\n",
            "60000/60000 [==============================] - 4s 61us/sample - loss: 0.3825 - accuracy: 0.8603\n",
            "Epoch 4/20\n",
            "59392/60000 [============================>.] - ETA: 0s - loss: 0.3562 - accuracy: 0.8690\n",
            "Starting callback...\n",
            "+----------------------+\n",
            "| Data set 0           |\n",
            "+----------------------+\n",
            "10000/10000 [==============================] - 0s 21us/sample - loss: 15.6043 - accuracy: 0.0042\n",
            "+----------------------+\n",
            "| Data set 1           |\n",
            "+----------------------+\n",
            "10000/10000 [==============================] - 0s 20us/sample - loss: 0.3510 - accuracy: 0.8731\n",
            "Callback completed...\n",
            "60000/60000 [==============================] - 4s 60us/sample - loss: 0.3566 - accuracy: 0.8689\n",
            "Epoch 5/20\n",
            "59648/60000 [============================>.] - ETA: 0s - loss: 0.3378 - accuracy: 0.8752\n",
            "Starting callback...\n",
            "+----------------------+\n",
            "| Data set 0           |\n",
            "+----------------------+\n",
            "10000/10000 [==============================] - 0s 22us/sample - loss: 15.6689 - accuracy: 0.0039\n",
            "+----------------------+\n",
            "| Data set 1           |\n",
            "+----------------------+\n",
            "10000/10000 [==============================] - 0s 23us/sample - loss: 0.3403 - accuracy: 0.8761\n",
            "Callback completed...\n",
            "60000/60000 [==============================] - 4s 61us/sample - loss: 0.3381 - accuracy: 0.8751\n",
            "Epoch 6/20\n",
            "59904/60000 [============================>.] - ETA: 0s - loss: 0.3279 - accuracy: 0.8802\n",
            "Starting callback...\n",
            "+----------------------+\n",
            "| Data set 0           |\n",
            "+----------------------+\n",
            "10000/10000 [==============================] - 0s 21us/sample - loss: 15.5722 - accuracy: 0.0087\n",
            "+----------------------+\n",
            "| Data set 1           |\n",
            "+----------------------+\n",
            "10000/10000 [==============================] - 0s 22us/sample - loss: 0.3395 - accuracy: 0.8752\n",
            "Callback completed...\n",
            "60000/60000 [==============================] - 4s 60us/sample - loss: 0.3279 - accuracy: 0.8803\n",
            "Epoch 7/20\n",
            "59136/60000 [============================>.] - ETA: 0s - loss: 0.3154 - accuracy: 0.8825\n",
            "Starting callback...\n",
            "+----------------------+\n",
            "| Data set 0           |\n",
            "+----------------------+\n",
            "10000/10000 [==============================] - 0s 21us/sample - loss: 15.8047 - accuracy: 0.0016\n",
            "+----------------------+\n",
            "| Data set 1           |\n",
            "+----------------------+\n",
            "10000/10000 [==============================] - 0s 23us/sample - loss: 0.3239 - accuracy: 0.8809\n",
            "Callback completed...\n",
            "60000/60000 [==============================] - 4s 61us/sample - loss: 0.3156 - accuracy: 0.8825\n",
            "Epoch 8/20\n",
            "59136/60000 [============================>.] - ETA: 0s - loss: 0.3037 - accuracy: 0.8875\n",
            "Starting callback...\n",
            "+----------------------+\n",
            "| Data set 0           |\n",
            "+----------------------+\n",
            "10000/10000 [==============================] - 0s 21us/sample - loss: 15.8825 - accuracy: 0.0015\n",
            "+----------------------+\n",
            "| Data set 1           |\n",
            "+----------------------+\n",
            "10000/10000 [==============================] - 0s 21us/sample - loss: 0.3251 - accuracy: 0.8849\n",
            "Callback completed...\n",
            "60000/60000 [==============================] - 4s 61us/sample - loss: 0.3038 - accuracy: 0.8875\n",
            "Epoch 9/20\n",
            "59648/60000 [============================>.] - ETA: 0s - loss: 0.2972 - accuracy: 0.8908\n",
            "Starting callback...\n",
            "+----------------------+\n",
            "| Data set 0           |\n",
            "+----------------------+\n",
            "10000/10000 [==============================] - 0s 23us/sample - loss: 15.8864 - accuracy: 0.0013\n",
            "+----------------------+\n",
            "| Data set 1           |\n",
            "+----------------------+\n",
            "10000/10000 [==============================] - 0s 21us/sample - loss: 0.3371 - accuracy: 0.8768\n",
            "Callback completed...\n",
            "60000/60000 [==============================] - 4s 61us/sample - loss: 0.2974 - accuracy: 0.8906\n",
            "Epoch 10/20\n",
            "59008/60000 [============================>.] - ETA: 0s - loss: 0.2921 - accuracy: 0.8927\n",
            "Starting callback...\n",
            "+----------------------+\n",
            "| Data set 0           |\n",
            "+----------------------+\n",
            "10000/10000 [==============================] - 0s 22us/sample - loss: 16.0014 - accuracy: 8.0000e-04\n",
            "+----------------------+\n",
            "| Data set 1           |\n",
            "+----------------------+\n",
            "10000/10000 [==============================] - 0s 22us/sample - loss: 0.3166 - accuracy: 0.8863\n",
            "Callback completed...\n",
            "60000/60000 [==============================] - 4s 62us/sample - loss: 0.2928 - accuracy: 0.8926\n",
            "Epoch 11/20\n",
            "59264/60000 [============================>.] - ETA: 0s - loss: 0.2884 - accuracy: 0.8936\n",
            "Starting callback...\n",
            "+----------------------+\n",
            "| Data set 0           |\n",
            "+----------------------+\n",
            "10000/10000 [==============================] - 0s 22us/sample - loss: 15.9892 - accuracy: 7.0000e-04\n",
            "+----------------------+\n",
            "| Data set 1           |\n",
            "+----------------------+\n",
            "10000/10000 [==============================] - 0s 20us/sample - loss: 0.3171 - accuracy: 0.8848\n",
            "Callback completed...\n",
            "60000/60000 [==============================] - 4s 60us/sample - loss: 0.2882 - accuracy: 0.8938\n",
            "Epoch 12/20\n",
            "59008/60000 [============================>.] - ETA: 0s - loss: 0.2818 - accuracy: 0.8965\n",
            "Starting callback...\n",
            "+----------------------+\n",
            "| Data set 0           |\n",
            "+----------------------+\n",
            "10000/10000 [==============================] - 0s 20us/sample - loss: 16.0211 - accuracy: 3.0000e-04\n",
            "+----------------------+\n",
            "| Data set 1           |\n",
            "+----------------------+\n",
            "10000/10000 [==============================] - 0s 21us/sample - loss: 0.3123 - accuracy: 0.8871\n",
            "Callback completed...\n",
            "60000/60000 [==============================] - 3s 58us/sample - loss: 0.2818 - accuracy: 0.8964\n",
            "Epoch 13/20\n",
            "59392/60000 [============================>.] - ETA: 0s - loss: 0.2772 - accuracy: 0.8984\n",
            "Starting callback...\n",
            "+----------------------+\n",
            "| Data set 0           |\n",
            "+----------------------+\n",
            "10000/10000 [==============================] - 0s 23us/sample - loss: 16.0355 - accuracy: 3.0000e-04\n",
            "+----------------------+\n",
            "| Data set 1           |\n",
            "+----------------------+\n",
            "10000/10000 [==============================] - 0s 22us/sample - loss: 0.3159 - accuracy: 0.8863\n",
            "Callback completed...\n",
            "60000/60000 [==============================] - 4s 61us/sample - loss: 0.2771 - accuracy: 0.8985\n",
            "Epoch 14/20\n",
            "59392/60000 [============================>.] - ETA: 0s - loss: 0.2717 - accuracy: 0.9002\n",
            "Starting callback...\n",
            "+----------------------+\n",
            "| Data set 0           |\n",
            "+----------------------+\n",
            "10000/10000 [==============================] - 0s 20us/sample - loss: 15.8834 - accuracy: 0.0027\n",
            "+----------------------+\n",
            "| Data set 1           |\n",
            "+----------------------+\n",
            "10000/10000 [==============================] - 0s 20us/sample - loss: 0.3222 - accuracy: 0.8861\n",
            "Callback completed...\n",
            "60000/60000 [==============================] - 4s 59us/sample - loss: 0.2722 - accuracy: 0.9000\n",
            "Epoch 15/20\n",
            "59648/60000 [============================>.] - ETA: 0s - loss: 0.2661 - accuracy: 0.9007\n",
            "Starting callback...\n",
            "+----------------------+\n",
            "| Data set 0           |\n",
            "+----------------------+\n",
            "10000/10000 [==============================] - 0s 20us/sample - loss: 16.0899 - accuracy: 2.0000e-04\n",
            "+----------------------+\n",
            "| Data set 1           |\n",
            "+----------------------+\n",
            "10000/10000 [==============================] - 0s 22us/sample - loss: 0.3170 - accuracy: 0.8863\n",
            "Callback completed...\n",
            "60000/60000 [==============================] - 4s 59us/sample - loss: 0.2659 - accuracy: 0.9008\n",
            "Epoch 16/20\n",
            "59904/60000 [============================>.] - ETA: 0s - loss: 0.2650 - accuracy: 0.9028\n",
            "Starting callback...\n",
            "+----------------------+\n",
            "| Data set 0           |\n",
            "+----------------------+\n",
            "10000/10000 [==============================] - 0s 20us/sample - loss: 16.0304 - accuracy: 6.0000e-04\n",
            "+----------------------+\n",
            "| Data set 1           |\n",
            "+----------------------+\n",
            "10000/10000 [==============================] - 0s 21us/sample - loss: 0.3130 - accuracy: 0.8899\n",
            "Callback completed...\n",
            "60000/60000 [==============================] - 4s 60us/sample - loss: 0.2649 - accuracy: 0.9028\n",
            "Epoch 17/20\n",
            "59648/60000 [============================>.] - ETA: 0s - loss: 0.2628 - accuracy: 0.9023\n",
            "Starting callback...\n",
            "+----------------------+\n",
            "| Data set 0           |\n",
            "+----------------------+\n",
            "10000/10000 [==============================] - 0s 23us/sample - loss: 16.0828 - accuracy: 1.0000e-04\n",
            "+----------------------+\n",
            "| Data set 1           |\n",
            "+----------------------+\n",
            "10000/10000 [==============================] - 0s 24us/sample - loss: 0.3155 - accuracy: 0.8882\n",
            "Callback completed...\n",
            "60000/60000 [==============================] - 4s 61us/sample - loss: 0.2624 - accuracy: 0.9025\n",
            "Epoch 18/20\n",
            "59264/60000 [============================>.] - ETA: 0s - loss: 0.2586 - accuracy: 0.9046\n",
            "Starting callback...\n",
            "+----------------------+\n",
            "| Data set 0           |\n",
            "+----------------------+\n",
            "10000/10000 [==============================] - 0s 23us/sample - loss: 16.0119 - accuracy: 0.0012\n",
            "+----------------------+\n",
            "| Data set 1           |\n",
            "+----------------------+\n",
            "10000/10000 [==============================] - 0s 23us/sample - loss: 0.3319 - accuracy: 0.8858\n",
            "Callback completed...\n",
            "60000/60000 [==============================] - 4s 61us/sample - loss: 0.2587 - accuracy: 0.9044\n",
            "Epoch 19/20\n",
            "59136/60000 [============================>.] - ETA: 0s - loss: 0.2606 - accuracy: 0.9032\n",
            "Starting callback...\n",
            "+----------------------+\n",
            "| Data set 0           |\n",
            "+----------------------+\n",
            "10000/10000 [==============================] - 0s 24us/sample - loss: 15.8920 - accuracy: 0.0028\n",
            "+----------------------+\n",
            "| Data set 1           |\n",
            "+----------------------+\n",
            "10000/10000 [==============================] - 0s 24us/sample - loss: 0.3173 - accuracy: 0.8925\n",
            "Callback completed...\n",
            "60000/60000 [==============================] - 4s 63us/sample - loss: 0.2606 - accuracy: 0.9032\n",
            "Epoch 20/20\n",
            "59776/60000 [============================>.] - ETA: 0s - loss: 0.2530 - accuracy: 0.9068\n",
            "Starting callback...\n",
            "+----------------------+\n",
            "| Data set 0           |\n",
            "+----------------------+\n",
            "10000/10000 [==============================] - 0s 21us/sample - loss: 16.0883 - accuracy: 1.0000e-04\n",
            "+----------------------+\n",
            "| Data set 1           |\n",
            "+----------------------+\n",
            "10000/10000 [==============================] - 0s 22us/sample - loss: 0.3297 - accuracy: 0.8858\n",
            "Callback completed...\n",
            "60000/60000 [==============================] - 4s 59us/sample - loss: 0.2529 - accuracy: 0.9068\n"
          ],
          "name": "stdout"
        },
        {
          "output_type": "execute_result",
          "data": {
            "text/plain": [
              "<tensorflow.python.keras.callbacks.History at 0x7f0224ba85f8>"
            ]
          },
          "metadata": {
            "tags": []
          },
          "execution_count": 32
        }
      ]
    },
    {
      "cell_type": "markdown",
      "metadata": {
        "id": "xaUL-QYT8tfy"
      },
      "source": [
        "If we now plot the loss on the validation sets during the sequential training process on MNIST and FashionMNIST, we can clearly see what catastrophic forgetting means."
      ]
    },
    {
      "cell_type": "code",
      "metadata": {
        "id": "vziuxbrI9NLF",
        "colab": {
          "base_uri": "https://localhost:8080/",
          "height": 297
        },
        "outputId": "1da1a345-058f-4604-c2c8-427953aa4238"
      },
      "source": [
        "plt.subplot(2, 1, 1)\n",
        "plt.plot(my_cb.loss_0)\n",
        "plt.plot(my_cb.loss_1)\n",
        "plt.legend([\"MNIST\", \"FashionMNIST\"])\n",
        "plt.title(\"Loss\")\n",
        "plt.subplot(2, 1, 2)\n",
        "plt.plot(my_cb.acc_0)\n",
        "plt.plot(my_cb.acc_1)\n",
        "plt.legend([\"MNIST\", \"FashionMNIST\"])\n",
        "plt.title(\"Accuracy\")\n",
        "plt.xlabel(\"Epochs\")\n",
        "plt.tight_layout()\n",
        "plt.show()"
      ],
      "execution_count": null,
      "outputs": [
        {
          "output_type": "display_data",
          "data": {
            "image/png": "[encoded data removed]",
            "text/plain": [
              "<Figure size 432x288 with 2 Axes>"
            ]
          },
          "metadata": {
            "tags": []
          }
        }
      ]
    },
    {
      "cell_type": "markdown",
      "metadata": {
        "id": "iSfJAOLbBsv3"
      },
      "source": [
        "We can clearly see the transition from training on MNIST to training on FashionMNITS on epoch $20$. At this epoch the loss on MNIST rapidly increases again while the loss on FashionMNIST rapidly decreases. For the accuracy we see a similar but opposite behaivior. It first is high while training on MNIST and then rapidly decreases towards $0$ as we transition to training on FashionMNIST. Avioding this phenomenon is an active area of research on deep learning and there already exist some methods in order to mitigate catastrophic forgetting. But so far solving continual learning with neural networks remains an interesting and challenging problem. If it can be solved, neural networks could learn more human like without a constant need to refresh previously learned examples and enable interesting new applications where knowledge is accumulated over time.\n",
        "\n",
        "## Conclusion\n",
        "In this exercise we have learned how to use Keras in order to quickly develop neural networks and train them on different data sets. We also refreshed the mathematical background on classification and explored how dropout can act as an effective regularization in order to mitigate overfitting. While the Keras specification offers a high-level of abstraction in order to simplify build and training neural networks, it also enables us to customize some parts of the complete workflow. In order to evaluate a model on two different data sets in order to visualize the phenomenon of catastrophic forgetting, we implemented a custom callback that executed our required action at the end of every epoch. Besides that Keras offers many other ways to implement non standard layers/methods. If you want to learn more on Keras, you can visit the documentation on the Keras implementation in Tensorflow [here](https://www.tensorflow.org/versions/r2.0/api_docs/python/tf/keras) or directly use the Keras specification available [here](https://keras.io). Additionally we explored a very basic transfer learning technique, i.e. fine tuning of pretrained models. For this we utilized the MobileNetV2 architecture that was trained on the ImageNet data set and fine tuned it on the Caltech 101 data set. The resulting model was simple to implement and fast to train, while it still achieved competetive results."
      ]
    }
  ]
}